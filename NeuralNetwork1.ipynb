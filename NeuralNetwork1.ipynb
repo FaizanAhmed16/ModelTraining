{
 "cells": [
  {
   "cell_type": "code",
   "execution_count": 43,
   "metadata": {},
   "outputs": [],
   "source": [
    "import pandas as pd\n",
    "from sklearn.model_selection import train_test_split\n",
    "from sklearn.preprocessing import StandardScaler, OrdinalEncoder, OneHotEncoder, MinMaxScaler, LabelEncoder\n",
    "from sklearn.compose import ColumnTransformer\n",
    "from sklearn.pipeline import Pipeline\n",
    "from sklearn.decomposition import PCA\n",
    "from sklearn.feature_selection import VarianceThreshold\n",
    "from sklearn.feature_selection import SelectKBest, f_regression\n",
    "import tensorflow as tf\n",
    "from tensorflow import keras\n",
    "from tensorflow.keras import layers\n",
    "from sklearn.metrics import mean_squared_error\n",
    "import matplotlib.pyplot as plt\n",
    "from sklearn.neural_network import MLPRegressor"
   ]
  },
  {
   "cell_type": "code",
   "execution_count": 67,
   "metadata": {},
   "outputs": [],
   "source": [
    "import torch\n",
    "import torch.nn as nn\n",
    "import torch.optim as optim\n",
    "from torch.optim.lr_scheduler import ReduceLROnPlateau\n",
    "from torch.utils.data import DataLoader, TensorDataset"
   ]
  },
  {
   "cell_type": "code",
   "execution_count": 56,
   "metadata": {},
   "outputs": [],
   "source": [
    "import os\n",
    "os.chdir(\"C:\\\\Users\\\\faizan\\\\Documents\\\\IMLChallenge02\")"
   ]
  },
  {
   "cell_type": "code",
   "execution_count": 57,
   "metadata": {},
   "outputs": [],
   "source": [
    "df_train = pd.read_csv('./train.csv')\n",
    "df_test = pd.read_csv('./test.csv')"
   ]
  },
  {
   "cell_type": "code",
   "execution_count": 58,
   "metadata": {},
   "outputs": [],
   "source": [
    "# Extract features and target variable from the training data\n",
    "X = df_train.drop(columns=['price_doc'])  # Features\n",
    "y = df_train['price_doc']  # Target variable"
   ]
  },
  {
   "cell_type": "code",
   "execution_count": 59,
   "metadata": {},
   "outputs": [],
   "source": [
    "# Split the data into training and testing sets\n",
    "X_train, X_valid, y_train, y_valid = train_test_split(X, y, test_size=0.2, random_state=42)"
   ]
  },
  {
   "cell_type": "code",
   "execution_count": 60,
   "metadata": {},
   "outputs": [],
   "source": [
    "# Define numerical and categorical features\n",
    "numerical_features = X.select_dtypes(include=['float64', 'int64']).columns\n",
    "categorical_features = X.select_dtypes(include=['object']).columns\n",
    "\n",
    "# Create transformers for numerical and categorical features\n",
    "numerical_transformer = Pipeline(steps=[\n",
    "    ('scaler', StandardScaler()),\n",
    "    ('variance_filter', VarianceThreshold(threshold=0.05))  # Add variance-based filter\n",
    "])\n",
    "\n",
    "categorical_transformer = Pipeline(steps=[\n",
    "    ('onehot', OrdinalEncoder())  # Use OneHotEncoder for dummy encoding\n",
    "])\n",
    "\n",
    "# Combine transformers using ColumnTransformer\n",
    "preprocessor = ColumnTransformer(\n",
    "    transformers=[\n",
    "        ('num', numerical_transformer, numerical_features),\n",
    "        ('cat', categorical_transformer, categorical_features)\n",
    "    ])\n",
    "\n",
    "# Add PCA to the model\n",
    "pca = PCA(n_components=38)\n",
    "\n",
    "# Add SelectKBest for feature selection\n",
    "k_best = SelectKBest(score_func=f_regression, k=100)\n",
    "\n",
    "# Preprocess the training data\n",
    "X_train_preprocessed = preprocessor.fit_transform(X_train)\n",
    "\n"
   ]
  },
  {
   "cell_type": "code",
   "execution_count": 61,
   "metadata": {},
   "outputs": [],
   "source": [
    "# Convert data to PyTorch tensors\n",
    "X_train_tensor = torch.tensor(X_train_preprocessed, dtype=torch.float32)\n",
    "y_train_tensor = torch.tensor(y_train.values, dtype=torch.float32).view(-1, 1)\n",
    "\n",
    "X_valid_tensor = torch.tensor(preprocessor.transform(X_valid), dtype=torch.float32)\n",
    "y_valid_tensor = torch.tensor(y_valid.values, dtype=torch.float32).view(-1, 1)"
   ]
  },
  {
   "cell_type": "code",
   "execution_count": 68,
   "metadata": {},
   "outputs": [],
   "source": [
    "# Create DataLoader for training\n",
    "train_dataset = TensorDataset(X_train_tensor, y_train_tensor)\n",
    "train_loader = DataLoader(train_dataset, batch_size=64, shuffle=True)\n",
    "\n",
    "\n",
    "# Define the PyTorch neural network model\n",
    "class NeuralNetwork(nn.Module):\n",
    "    def __init__(self, input_size):\n",
    "        super(NeuralNetwork, self).__init__()\n",
    "        self.fc1 = nn.Linear(input_size, 256)\n",
    "        self.bn1 = nn.BatchNorm1d(256)\n",
    "        self.fc2 = nn.Linear(256, 128)\n",
    "        self.fc3 = nn.Linear(128, 64)\n",
    "        self.fc4 = nn.Linear(64, 32)\n",
    "        self.fc5 = nn.Linear(32, 16)\n",
    "        self.fc6 = nn.Linear(16, 8)\n",
    "        self.fc7 = nn.Linear(8, 1)\n",
    "\n",
    "    def forward(self, x):\n",
    "        x = torch.relu(self.bn1(self.fc1(x)))\n",
    "        x = torch.relu(self.fc2(x))\n",
    "        x = torch.relu(self.fc3(x))\n",
    "        x = torch.relu(self.fc4(x))\n",
    "        x = torch.relu(self.fc5(x))\n",
    "        x = torch.relu(self.fc6(x))\n",
    "        x = self.fc7(x)\n",
    "        return x\n",
    "\n",
    "# Initialize the model\n",
    "input_size = X_train_preprocessed.shape[1]\n",
    "model = NeuralNetwork(input_size)\n",
    "\n",
    "# Define loss function and optimizer\n",
    "criterion = nn.MSELoss()\n",
    "optimizer = optim.Adam(model.parameters(), lr=0.05)\n",
    "\n",
    "# Define learning rate scheduler\n",
    "lr_scheduler = ReduceLROnPlateau(optimizer, mode='min', factor=0.1, patience=10, verbose=True)\n",
    "\n",
    "# Define early stopping parameters\n",
    "early_stopping = {'patience': 20, 'best_loss': float('inf'), 'counter': 0}\n",
    "\n",
    "# Convert validation data to PyTorch tensors\n",
    "X_valid_tensor = torch.tensor(preprocessor.transform(X_valid), dtype=torch.float32)\n",
    "y_valid_tensor = torch.tensor(y_valid.values, dtype=torch.float32).view(-1, 1)"
   ]
  },
  {
   "cell_type": "code",
   "execution_count": 70,
   "metadata": {},
   "outputs": [
    {
     "name": "stdout",
     "output_type": "stream",
     "text": [
      "Epoch [1/350], Loss: 179349026242560.0\n",
      "Epoch [2/350], Loss: 177754737737728.0\n",
      "Epoch [3/350], Loss: 181377492320256.0\n",
      "Epoch [4/350], Loss: 181668157587456.0\n",
      "Epoch [5/350], Loss: 180105141813248.0\n",
      "Epoch [6/350], Loss: 174800186114048.0\n",
      "Epoch [7/350], Loss: 184580816502784.0\n",
      "Epoch [8/350], Loss: 172388494868480.0\n",
      "Epoch [9/350], Loss: 178333534912512.0\n",
      "Epoch [10/350], Loss: 173777245700096.0\n",
      "Epoch [11/350], Loss: 172042397679616.0\n",
      "Epoch [12/350], Loss: 181210559021056.0\n",
      "Epoch [13/350], Loss: 177028804378624.0\n",
      "Epoch [14/350], Loss: 172928150798336.0\n",
      "Epoch [15/350], Loss: 171091280527360.0\n",
      "Epoch [16/350], Loss: 177094537510912.0\n",
      "Epoch [17/350], Loss: 177744805625856.0\n",
      "Epoch [18/350], Loss: 178227469352960.0\n",
      "Epoch [19/350], Loss: 172929023213568.0\n",
      "Epoch [20/350], Loss: 173014217916416.0\n",
      "Epoch [21/350], Loss: 174508816203776.0\n",
      "Epoch [22/350], Loss: 175169955954688.0\n",
      "Epoch [23/350], Loss: 173925069750272.0\n",
      "Epoch [24/350], Loss: 181217639006208.0\n",
      "Epoch [25/350], Loss: 174798994931712.0\n",
      "Epoch 00026: reducing learning rate of group 0 to 5.0000e-03.\n",
      "Epoch [26/350], Loss: 174587685896192.0\n",
      "Epoch [27/350], Loss: 173591270260736.0\n",
      "Epoch [28/350], Loss: 173069716946944.0\n",
      "Epoch [29/350], Loss: 173107482460160.0\n",
      "Epoch [30/350], Loss: 173344729071616.0\n",
      "Epoch [31/350], Loss: 173573905842176.0\n",
      "Epoch [32/350], Loss: 174385688215552.0\n",
      "Epoch [33/350], Loss: 174481704222720.0\n",
      "Epoch [34/350], Loss: 173706848501760.0\n",
      "Early stopping at epoch 35\n"
     ]
    }
   ],
   "source": [
    "# Training loop\n",
    "num_epochs = 350\n",
    "for epoch in range(num_epochs):\n",
    "    model.train()\n",
    "    for inputs, labels in train_loader:\n",
    "        optimizer.zero_grad()\n",
    "        outputs = model(inputs)\n",
    "        loss = criterion(outputs, labels)\n",
    "        loss.backward()\n",
    "        optimizer.step()\n",
    "\n",
    "    # Validate and update learning rate\n",
    "    model.eval()\n",
    "    with torch.no_grad():\n",
    "        valid_outputs = model(X_valid_tensor)\n",
    "        valid_loss = criterion(valid_outputs, y_valid_tensor)\n",
    "        lr_scheduler.step(valid_loss)\n",
    "\n",
    "        # Early stopping\n",
    "        if valid_loss < early_stopping['best_loss']:\n",
    "            early_stopping['best_loss'] = valid_loss\n",
    "            early_stopping['counter'] = 0\n",
    "        else:\n",
    "            early_stopping['counter'] += 1\n",
    "\n",
    "        if early_stopping['counter'] >= early_stopping['patience']:\n",
    "            print(f'Early stopping at epoch {epoch + 1}')\n",
    "            break\n",
    "\n",
    "    print(f'Epoch [{epoch + 1}/{num_epochs}], Loss: {valid_loss.item()}')"
   ]
  },
  {
   "cell_type": "code",
   "execution_count": 71,
   "metadata": {},
   "outputs": [
    {
     "name": "stdout",
     "output_type": "stream",
     "text": [
      "Mean Squared Error on Validation Set: 174147288378483.25\n"
     ]
    }
   ],
   "source": [
    "# Make predictions on the validation set\n",
    "model.eval()\n",
    "with torch.no_grad():\n",
    "    y_pred_tensor = model(X_valid_tensor)\n",
    "\n",
    "# Convert predictions back to numpy array\n",
    "y_pred = y_pred_tensor.numpy()\n",
    "\n",
    "# Evaluate the model\n",
    "mse = mean_squared_error(y_valid, y_pred)\n",
    "print(f'Mean Squared Error on Validation Set: {mse}')\n",
    "\n",
    "# Now, make predictions on the test set\n",
    "X_test_tensor = torch.tensor(preprocessor.transform(df_test), dtype=torch.float32)\n",
    "\n",
    "model.eval()\n",
    "with torch.no_grad():\n",
    "    test_predictions_tensor = model(X_test_tensor)\n",
    "\n",
    "# Convert predictions back to numpy array\n",
    "test_predictions = test_predictions_tensor.numpy()\n",
    "\n",
    "# Save predictions to a CSV file\n",
    "submission_df = pd.DataFrame({'row ID': range(1, len(test_predictions) + 1), 'price_doc': test_predictions.flatten()})\n",
    "submission_df.to_csv('prediction_neuralNetwork.csv', index=False)"
   ]
  },
  {
   "cell_type": "code",
   "execution_count": 51,
   "metadata": {},
   "outputs": [],
   "source": [
    "# Add PCA to the model\n",
    "pca = PCA(n_components=38)  # Adjust the number of components as needed\n",
    "\n",
    "# Combine preprocessor, PCA, and the model\n",
    "full_model = Pipeline([\n",
    "    ('preprocessor', preprocessor),\n",
    "    ('pca', pca),\n",
    "    ('regressor', MLPRegressor(hidden_layer_sizes=(128, 64, 32, 16), alpha=0.01, max_iter=350, random_state=42, early_stopping=True, n_iter_no_change=10))\n",
    "])"
   ]
  },
  {
   "cell_type": "code",
   "execution_count": 37,
   "metadata": {},
   "outputs": [],
   "source": [
    "# Increase model complexity\n",
    "model = keras.Sequential([\n",
    "    layers.Input(shape=(X_train_preprocessed.shape[1],), sparse=True),\n",
    "    layers.Dense(256, activation='relu', kernel_regularizer=keras.regularizers.l1(0.05)),\n",
    "    layers.BatchNormalization(),\n",
    "    # layers.Dropout(0.2),\n",
    "    layers.Dense(128, activation='relu', kernel_regularizer=keras.regularizers.l1_l2(0.05)),\n",
    "    layers.Dense(64, activation='relu', kernel_regularizer=keras.regularizers.l1_l2(0.05)),\n",
    "    layers.Dense(32, activation='relu', kernel_regularizer=keras.regularizers.l1_l2(0.05)),\n",
    "    layers.Dense(16, activation='relu', kernel_regularizer=keras.regularizers.l1_l2(0.05)),\n",
    "    layers.Dense(8, activation='relu', kernel_regularizer=keras.regularizers.l1_l2(0.05)),\n",
    "    layers.Dense(1)\n",
    "])\n",
    "\n",
    "# Combine preprocessor, PCA, and the model\n",
    "full_model = Pipeline([\n",
    "    ('preprocessor', preprocessor),\n",
    "    # ('feature_selection', k_best),\n",
    "    ('pca', pca),\n",
    "    ('regressor', model)\n",
    "])\n",
    "\n",
    "# Use Adam optimizer with a different learning rate schedule\n",
    "lr_schedule = keras.optimizers.schedules.ExponentialDecay(initial_learning_rate=0.05, decay_steps=1000, decay_rate=0.9)\n",
    "model.compile(optimizer=keras.optimizers.Nadam(learning_rate=lr_schedule), loss='mean_squared_error')\n",
    "\n",
    "# Implement early stopping\n",
    "early_stopping = keras.callbacks.EarlyStopping(monitor='val_loss', patience=20, restore_best_weights=True)"
   ]
  },
  {
   "cell_type": "code",
   "execution_count": 52,
   "metadata": {},
   "outputs": [
    {
     "name": "stdout",
     "output_type": "stream",
     "text": [
      "Epoch 1/350\n",
      "2269/2269 [==============================] - 17s 7ms/step - loss: 168226268905472.0000 - val_loss: 169539857809408.0000\n",
      "Epoch 2/350\n",
      "2269/2269 [==============================] - 21s 9ms/step - loss: 168994245967872.0000 - val_loss: 169496035721216.0000\n",
      "Epoch 3/350\n",
      "2269/2269 [==============================] - 21s 9ms/step - loss: 168301900595200.0000 - val_loss: 169508115316736.0000\n",
      "Epoch 4/350\n",
      "2269/2269 [==============================] - 19s 8ms/step - loss: 168373405089792.0000 - val_loss: 169595709161472.0000\n",
      "Epoch 5/350\n",
      "2269/2269 [==============================] - 19s 8ms/step - loss: 168575922864128.0000 - val_loss: 169489878482944.0000\n",
      "Epoch 6/350\n",
      "2269/2269 [==============================] - 17s 7ms/step - loss: 168507153055744.0000 - val_loss: 169510145359872.0000\n",
      "Epoch 7/350\n",
      "2269/2269 [==============================] - 11s 5ms/step - loss: 168180936867840.0000 - val_loss: 169501186326528.0000\n",
      "Epoch 8/350\n",
      "2269/2269 [==============================] - 14s 6ms/step - loss: 168719988817920.0000 - val_loss: 169600759103488.0000\n",
      "Epoch 9/350\n",
      "2269/2269 [==============================] - 11s 5ms/step - loss: 168552820637696.0000 - val_loss: 169532408725504.0000\n",
      "Epoch 10/350\n",
      "2269/2269 [==============================] - 11s 5ms/step - loss: 168467575603200.0000 - val_loss: 169564285435904.0000\n",
      "Epoch 11/350\n",
      "2269/2269 [==============================] - 10s 5ms/step - loss: 168568322785280.0000 - val_loss: 169531855077376.0000\n",
      "Epoch 12/350\n",
      "2269/2269 [==============================] - 10s 5ms/step - loss: 168615198326784.0000 - val_loss: 169532610052096.0000\n",
      "Epoch 13/350\n",
      "2269/2269 [==============================] - 11s 5ms/step - loss: 168292354359296.0000 - val_loss: 169567506661376.0000\n",
      "Epoch 14/350\n",
      "2269/2269 [==============================] - 10s 5ms/step - loss: 168327938834432.0000 - val_loss: 169500632678400.0000\n",
      "Epoch 15/350\n",
      "2269/2269 [==============================] - 10s 5ms/step - loss: 168583539720192.0000 - val_loss: 169469947150336.0000\n",
      "Epoch 16/350\n",
      "2269/2269 [==============================] - 11s 5ms/step - loss: 168432209231872.0000 - val_loss: 169519104393216.0000\n",
      "Epoch 17/350\n",
      "2269/2269 [==============================] - 11s 5ms/step - loss: 168353540866048.0000 - val_loss: 169488301424640.0000\n",
      "Epoch 18/350\n",
      "2269/2269 [==============================] - 10s 5ms/step - loss: 168746362601472.0000 - val_loss: 169536217153536.0000\n",
      "Epoch 19/350\n",
      "2269/2269 [==============================] - 10s 5ms/step - loss: 168594881118208.0000 - val_loss: 169618828165120.0000\n",
      "Epoch 20/350\n",
      "2269/2269 [==============================] - 10s 5ms/step - loss: 168424139390976.0000 - val_loss: 169590122348544.0000\n",
      "Epoch 21/350\n",
      "2269/2269 [==============================] - 10s 5ms/step - loss: 168576073859072.0000 - val_loss: 169474560884736.0000\n",
      "Epoch 22/350\n",
      "2269/2269 [==============================] - 10s 5ms/step - loss: 168565621653504.0000 - val_loss: 169493619802112.0000\n",
      "Epoch 23/350\n",
      "2269/2269 [==============================] - 10s 5ms/step - loss: 168469672755200.0000 - val_loss: 169525915942912.0000\n",
      "Epoch 24/350\n",
      "2269/2269 [==============================] - 10s 5ms/step - loss: 168394947035136.0000 - val_loss: 169566667800576.0000\n",
      "Epoch 25/350\n",
      "2269/2269 [==============================] - 10s 5ms/step - loss: 168393135095808.0000 - val_loss: 169575794606080.0000\n",
      "Epoch 26/350\n",
      "2269/2269 [==============================] - 10s 5ms/step - loss: 168187899412480.0000 - val_loss: 169544203108352.0000\n",
      "Epoch 27/350\n",
      "2269/2269 [==============================] - 10s 5ms/step - loss: 168455194017792.0000 - val_loss: 169553564794880.0000\n",
      "Epoch 28/350\n",
      "2269/2269 [==============================] - 10s 5ms/step - loss: 168359329005568.0000 - val_loss: 169551316647936.0000\n",
      "Epoch 29/350\n",
      "2269/2269 [==============================] - 10s 5ms/step - loss: 168746798809088.0000 - val_loss: 169469376724992.0000\n",
      "Epoch 30/350\n",
      "2269/2269 [==============================] - 10s 5ms/step - loss: 168620197937152.0000 - val_loss: 169494307667968.0000\n",
      "Epoch 31/350\n",
      "2269/2269 [==============================] - 10s 5ms/step - loss: 168367969271808.0000 - val_loss: 169522073960448.0000\n",
      "Epoch 32/350\n",
      "2269/2269 [==============================] - 11s 5ms/step - loss: 168348591587328.0000 - val_loss: 169513416916992.0000\n",
      "Epoch 33/350\n",
      "2269/2269 [==============================] - 10s 5ms/step - loss: 168817128898560.0000 - val_loss: 169518550745088.0000\n",
      "Epoch 34/350\n",
      "2269/2269 [==============================] - 11s 5ms/step - loss: 168283244331008.0000 - val_loss: 169510514458624.0000\n",
      "Epoch 35/350\n",
      "2269/2269 [==============================] - 10s 5ms/step - loss: 168568993873920.0000 - val_loss: 169497814106112.0000\n",
      "Epoch 36/350\n",
      "2269/2269 [==============================] - 10s 5ms/step - loss: 168832127729664.0000 - val_loss: 169486103609344.0000\n",
      "Epoch 37/350\n",
      "2269/2269 [==============================] - 10s 5ms/step - loss: 168314500284416.0000 - val_loss: 169569587036160.0000\n",
      "Epoch 38/350\n",
      "2269/2269 [==============================] - 10s 5ms/step - loss: 168442644660224.0000 - val_loss: 169528650629120.0000\n",
      "Epoch 39/350\n",
      "2269/2269 [==============================] - 10s 5ms/step - loss: 168610014167040.0000 - val_loss: 169511688863744.0000\n",
      "Epoch 40/350\n",
      "2269/2269 [==============================] - 10s 5ms/step - loss: 168397329399808.0000 - val_loss: 169486170718208.0000\n",
      "Epoch 41/350\n",
      "2269/2269 [==============================] - 10s 5ms/step - loss: 168625583423488.0000 - val_loss: 169551652192256.0000\n",
      "Epoch 42/350\n",
      "2269/2269 [==============================] - 10s 5ms/step - loss: 168339196346368.0000 - val_loss: 169554420432896.0000\n",
      "Epoch 43/350\n",
      "2269/2269 [==============================] - 11s 5ms/step - loss: 168396909969408.0000 - val_loss: 169529539821568.0000\n",
      "Epoch 44/350\n",
      "2269/2269 [==============================] - 10s 5ms/step - loss: 168149999681536.0000 - val_loss: 169538767290368.0000\n",
      "Epoch 45/350\n",
      "2269/2269 [==============================] - 10s 5ms/step - loss: 168677760565248.0000 - val_loss: 169475265527808.0000\n",
      "Epoch 46/350\n",
      "2269/2269 [==============================] - 10s 5ms/step - loss: 168501583020032.0000 - val_loss: 169526570254336.0000\n",
      "Epoch 47/350\n",
      "2269/2269 [==============================] - 10s 5ms/step - loss: 168381827252224.0000 - val_loss: 169528214421504.0000\n",
      "Epoch 48/350\n",
      "2269/2269 [==============================] - 11s 5ms/step - loss: 168528695001088.0000 - val_loss: 169551467642880.0000\n",
      "Epoch 49/350\n",
      "2269/2269 [==============================] - 10s 5ms/step - loss: 168470712942592.0000 - val_loss: 169488368533504.0000\n"
     ]
    }
   ],
   "source": [
    "# Train the model with enhancements\n",
    "history = model.fit(X_train_preprocessed, y_train, epochs=350, batch_size=64,\n",
    "                    validation_data=(preprocessor.transform(X_valid), y_valid),\n",
    "                    callbacks=[early_stopping])"
   ]
  },
  {
   "cell_type": "code",
   "execution_count": 53,
   "metadata": {},
   "outputs": [
    {
     "data": {
      "image/png": "[encoded data removed]",
      "text/plain": [
       "<Figure size 640x480 with 1 Axes>"
      ]
     },
     "metadata": {},
     "output_type": "display_data"
    }
   ],
   "source": [
    "# Plot training history\n",
    "plt.plot(history.history['loss'], label='Training Loss')\n",
    "plt.plot(history.history['val_loss'], label='Validation Loss')\n",
    "plt.xlabel('Epochs')\n",
    "plt.ylabel('Mean Squared Error')\n",
    "plt.legend()\n",
    "plt.show()"
   ]
  },
  {
   "cell_type": "code",
   "execution_count": 54,
   "metadata": {},
   "outputs": [
    {
     "name": "stdout",
     "output_type": "stream",
     "text": [
      "1135/1135 [==============================] - 2s 2ms/step\n",
      "Mean Squared Error on Validation Set: 169469257614273.47\n",
      "2431/2431 [==============================] - 4s 2ms/step\n"
     ]
    }
   ],
   "source": [
    "# Make predictions on the validation set\n",
    "X_valid_preprocessed = preprocessor.transform(X_valid)\n",
    "y_pred = model.predict(X_valid_preprocessed)\n",
    "\n",
    "# Evaluate the model\n",
    "mse = mean_squared_error(y_valid, y_pred)\n",
    "print(f'Mean Squared Error on Validation Set: {mse}')\n",
    "\n",
    "# Now, make predictions on the test set\n",
    "X_test_preprocessed = preprocessor.transform(df_test)\n",
    "test_predictions = model.predict(X_test_preprocessed)"
   ]
  },
  {
   "cell_type": "code",
   "execution_count": 49,
   "metadata": {},
   "outputs": [],
   "source": [
    "\n",
    "# Save predictions to a CSV file\n",
    "submission_df = pd.DataFrame({'row ID': range(1, len(test_predictions) + 1), 'price_doc': test_predictions.flatten()})\n",
    "\n",
    "# Save the DataFrame to a CSV file\n",
    "submission_df.to_csv('prediction_neuralNetwork.csv', index=False)"
   ]
  },
  {
   "cell_type": "code",
   "execution_count": 50,
   "metadata": {},
   "outputs": [
    {
     "name": "stdout",
     "output_type": "stream",
     "text": [
      "Number of Features Used: 271\n"
     ]
    }
   ],
   "source": [
    "# Print the number of features used after preprocessing\n",
    "num_features_used = X_train_preprocessed.shape[1]\n",
    "print(f'Number of Features Used: {num_features_used}')"
   ]
  }
 ],
 "metadata": {
  "kernelspec": {
   "display_name": "Python 3",
   "language": "python",
   "name": "python3"
  },
  "language_info": {
   "codemirror_mode": {
    "name": "ipython",
    "version": 3
   },
   "file_extension": ".py",
   "mimetype": "text/x-python",
   "name": "python",
   "nbconvert_exporter": "python",
   "pygments_lexer": "ipython3",
   "version": "3.11.5"
  }
 },
 "nbformat": 4,
 "nbformat_minor": 2
}
