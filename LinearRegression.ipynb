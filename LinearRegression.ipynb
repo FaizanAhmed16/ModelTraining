{
 "cells": [
  {
   "cell_type": "code",
   "execution_count": 3,
   "metadata": {},
   "outputs": [],
   "source": [
    "import pandas as pd\n",
    "from sklearn.model_selection import train_test_split\n",
    "from sklearn.linear_model import LinearRegression\n",
    "from sklearn.metrics import mean_squared_error\n",
    "import numpy as np\n",
    "from sklearn.preprocessing import MinMaxScaler, LabelEncoder, StandardScaler, OneHotEncoder, PolynomialFeatures\n",
    "from sklearn.decomposition import PCA\n",
    "from sklearn.compose import ColumnTransformer\n",
    "from sklearn.pipeline import Pipeline\n",
    "from sklearn.decomposition import TruncatedSVD\n",
    "from sklearn.feature_selection import SelectFdr, f_regression, VarianceThreshold, SequentialFeatureSelector, SelectKBest"
   ]
  },
  {
   "cell_type": "code",
   "execution_count": 4,
   "metadata": {},
   "outputs": [],
   "source": [
    "import os\n",
    "os.chdir(\"C:\\\\Users\\\\faizan\\\\Documents\\\\IMLChallenge02\")"
   ]
  },
  {
   "cell_type": "code",
   "execution_count": 5,
   "metadata": {},
   "outputs": [],
   "source": [
    "train_df = pd.read_csv('./train.csv')\n",
    "test_df = pd.read_csv('./test.csv')\n",
    "sample_df = pd.read_csv('./sample_submission.csv')"
   ]
  },
  {
   "cell_type": "code",
   "execution_count": 11,
   "metadata": {},
   "outputs": [],
   "source": [
    "# Select features and target variable\n",
    "features = train_df.drop(['price_doc'], axis=1)\n",
    "target = train_df['price_doc']\n",
    "\n",
    "# Identify categorical columns\n",
    "categorical_cols = features.select_dtypes(include=['object']).columns\n",
    "\n",
    "# Identify numerical columns\n",
    "numerical_cols = features.select_dtypes(include=['number']).columns\n",
    "\n",
    "# Create transformers\n",
    "numerical_transformer = Pipeline(steps=[('numerical', 'passthrough')])\n",
    "\n",
    "categorical_transformer = Pipeline(steps=[\n",
    "    ('onehot', OneHotEncoder(handle_unknown='ignore'))\n",
    "])\n",
    "\n",
    "# Bundle transformers\n",
    "preprocessor = ColumnTransformer(\n",
    "    transformers=[\n",
    "        ('num', numerical_transformer, numerical_cols),\n",
    "        ('cat', categorical_transformer, categorical_cols)\n",
    "    ])\n",
    "\n",
    "# Integrate feature selection with SelectKBest\n",
    "model = Pipeline(steps=[\n",
    "    ('preprocessor', preprocessor),\n",
    "    ('feature_selection', SelectKBest(score_func=f_regression, k=100)),\n",
    "    ('regressor', LinearRegression())\n",
    "])\n",
    "\n",
    "# Split the data into training and testing sets\n",
    "X_train, X_test, y_train, y_test = train_test_split(features, target, test_size=2, random_state=100)\n"
   ]
  },
  {
   "cell_type": "code",
   "execution_count": 12,
   "metadata": {},
   "outputs": [
    {
     "name": "stdout",
     "output_type": "stream",
     "text": [
      "Number of Features Used: 2214\n",
      "Mean Squared Error: 546195090437316.5\n"
     ]
    }
   ],
   "source": [
    "# Train the model\n",
    "model.fit(X_train, y_train)\n",
    "\n",
    "# Print the number of features used\n",
    "num_features_used = model.named_steps['preprocessor'].transform(X_train).shape[1]\n",
    "print(f'Number of Features Used: {num_features_used}')\n",
    "\n",
    "# Make predictions on the test set\n",
    "y_pred = model.predict(X_test)\n",
    "\n",
    "# Evaluate the model\n",
    "mse = mean_squared_error(y_test, y_pred)\n",
    "print(f'Mean Squared Error: {mse}')\n",
    "\n",
    "# Now, load the test data\n",
    "test_data = pd.read_csv('test.csv')\n",
    "\n",
    "# Make predictions on the test data\n",
    "test_predictions = model.predict(test_data)\n",
    "\n",
    "# Create a new DataFrame with 'row ID' and 'price_doc' columns\n",
    "output_df = pd.DataFrame({'row ID': test_data['row ID'], 'price_doc': test_predictions})\n",
    "\n",
    "# Save the output to a new CSV file\n",
    "output_df.to_csv('prediction_linearRegression.csv', index=False)"
   ]
  },
  {
   "cell_type": "code",
   "execution_count": 6,
   "metadata": {},
   "outputs": [],
   "source": [
    "X = train_df.drop(['price_doc'], axis=1)\n",
    "y = train_df['price_doc']\n",
    "\n",
    "# Split data into training and validation sets\n",
    "X_train, X_val, y_train, y_val = train_test_split(X, y, test_size=0.2, random_state=42)\n",
    "\n",
    "# Separate numerical and categorical columns\n",
    "numerical_cols = X_train.select_dtypes(include=[np.number]).columns\n",
    "categorical_cols = X_train.select_dtypes(include=['object']).columns\n",
    "\n",
    "# Variance-based filter\n",
    "variance_filter = VarianceThreshold(threshold=0.10)  # Adjust the threshold as needed\n",
    "\n",
    "# Create preprocessor with a variance-based filter and one-hot encoding\n",
    "preprocessor = ColumnTransformer(\n",
    "    transformers=[\n",
    "        ('num', variance_filter, numerical_cols),\n",
    "        ('cat', OneHotEncoder(handle_unknown='ignore'), categorical_cols),\n",
    "    ])\n",
    "\n",
    "# Create pipeline with preprocessor, PCA, and Linear Regression\n",
    "model = Pipeline([\n",
    "    ('preprocessor', preprocessor),\n",
    "    ('svd', TruncatedSVD(n_components=100)),  # Adjust the number of components as needed\n",
    "    ('regressor', LinearRegression())\n",
    "])\n"
   ]
  },
  {
   "cell_type": "code",
   "execution_count": 7,
   "metadata": {},
   "outputs": [
    {
     "data": {
      "text/html": [
       "<style>#sk-container-id-1 {color: black;}#sk-container-id-1 pre{padding: 0;}#sk-container-id-1 div.sk-toggleable {background-color: white;}#sk-container-id-1 label.sk-toggleable__label {cursor: pointer;display: block;width: 100%;margin-bottom: 0;padding: 0.3em;box-sizing: border-box;text-align: center;}#sk-container-id-1 label.sk-toggleable__label-arrow:before {content: \"▸\";float: left;margin-right: 0.25em;color: #696969;}#sk-container-id-1 label.sk-toggleable__label-arrow:hover:before {color: black;}#sk-container-id-1 div.sk-estimator:hover label.sk-toggleable__label-arrow:before {color: black;}#sk-container-id-1 div.sk-toggleable__content {max-height: 0;max-width: 0;overflow: hidden;text-align: left;background-color: #f0f8ff;}#sk-container-id-1 div.sk-toggleable__content pre {margin: 0.2em;color: black;border-radius: 0.25em;background-color: #f0f8ff;}#sk-container-id-1 input.sk-toggleable__control:checked~div.sk-toggleable__content {max-height: 200px;max-width: 100%;overflow: auto;}#sk-container-id-1 input.sk-toggleable__control:checked~label.sk-toggleable__label-arrow:before {content: \"▾\";}#sk-container-id-1 div.sk-estimator input.sk-toggleable__control:checked~label.sk-toggleable__label {background-color: #d4ebff;}#sk-container-id-1 div.sk-label input.sk-toggleable__control:checked~label.sk-toggleable__label {background-color: #d4ebff;}#sk-container-id-1 input.sk-hidden--visually {border: 0;clip: rect(1px 1px 1px 1px);clip: rect(1px, 1px, 1px, 1px);height: 1px;margin: -1px;overflow: hidden;padding: 0;position: absolute;width: 1px;}#sk-container-id-1 div.sk-estimator {font-family: monospace;background-color: #f0f8ff;border: 1px dotted black;border-radius: 0.25em;box-sizing: border-box;margin-bottom: 0.5em;}#sk-container-id-1 div.sk-estimator:hover {background-color: #d4ebff;}#sk-container-id-1 div.sk-parallel-item::after {content: \"\";width: 100%;border-bottom: 1px solid gray;flex-grow: 1;}#sk-container-id-1 div.sk-label:hover label.sk-toggleable__label {background-color: #d4ebff;}#sk-container-id-1 div.sk-serial::before {content: \"\";position: absolute;border-left: 1px solid gray;box-sizing: border-box;top: 0;bottom: 0;left: 50%;z-index: 0;}#sk-container-id-1 div.sk-serial {display: flex;flex-direction: column;align-items: center;background-color: white;padding-right: 0.2em;padding-left: 0.2em;position: relative;}#sk-container-id-1 div.sk-item {position: relative;z-index: 1;}#sk-container-id-1 div.sk-parallel {display: flex;align-items: stretch;justify-content: center;background-color: white;position: relative;}#sk-container-id-1 div.sk-item::before, #sk-container-id-1 div.sk-parallel-item::before {content: \"\";position: absolute;border-left: 1px solid gray;box-sizing: border-box;top: 0;bottom: 0;left: 50%;z-index: -1;}#sk-container-id-1 div.sk-parallel-item {display: flex;flex-direction: column;z-index: 1;position: relative;background-color: white;}#sk-container-id-1 div.sk-parallel-item:first-child::after {align-self: flex-end;width: 50%;}#sk-container-id-1 div.sk-parallel-item:last-child::after {align-self: flex-start;width: 50%;}#sk-container-id-1 div.sk-parallel-item:only-child::after {width: 0;}#sk-container-id-1 div.sk-dashed-wrapped {border: 1px dashed gray;margin: 0 0.4em 0.5em 0.4em;box-sizing: border-box;padding-bottom: 0.4em;background-color: white;}#sk-container-id-1 div.sk-label label {font-family: monospace;font-weight: bold;display: inline-block;line-height: 1.2em;}#sk-container-id-1 div.sk-label-container {text-align: center;}#sk-container-id-1 div.sk-container {/* jupyter's `normalize.less` sets `[hidden] { display: none; }` but bootstrap.min.css set `[hidden] { display: none !important; }` so we also need the `!important` here to be able to override the default hidden behavior on the sphinx rendered scikit-learn.org. See: https://github.com/scikit-learn/scikit-learn/issues/21755 */display: inline-block !important;position: relative;}#sk-container-id-1 div.sk-text-repr-fallback {display: none;}</style><div id=\"sk-container-id-1\" class=\"sk-top-container\"><div class=\"sk-text-repr-fallback\"><pre>Pipeline(steps=[(&#x27;preprocessor&#x27;,\n",
       "                 ColumnTransformer(transformers=[(&#x27;num&#x27;,\n",
       "                                                  VarianceThreshold(threshold=0.1),\n",
       "                                                  Index([&#x27;full_sq&#x27;, &#x27;life_sq&#x27;, &#x27;floor&#x27;, &#x27;area_m&#x27;, &#x27;raion_popul&#x27;,\n",
       "       &#x27;green_zone_part&#x27;, &#x27;indust_part&#x27;, &#x27;children_preschool&#x27;,\n",
       "       &#x27;preschool_education_centers_raion&#x27;, &#x27;children_school&#x27;,\n",
       "       ...\n",
       "       &#x27;cafe_count_5000_price_1500&#x27;, &#x27;cafe_count_5000_price_2500&#x27;,\n",
       "       &#x27;cafe_count_5000_pri...\n",
       "                                                  Index([&#x27;product_type&#x27;, &#x27;sub_area&#x27;, &#x27;culture_objects_top_25&#x27;,\n",
       "       &#x27;thermal_power_plant_raion&#x27;, &#x27;incineration_raion&#x27;,\n",
       "       &#x27;oil_chemistry_raion&#x27;, &#x27;radiation_raion&#x27;, &#x27;railroad_terminal_raion&#x27;,\n",
       "       &#x27;big_market_raion&#x27;, &#x27;nuclear_reactor_raion&#x27;, &#x27;detention_facility_raion&#x27;,\n",
       "       &#x27;water_1line&#x27;, &#x27;big_road1_1line&#x27;, &#x27;railroad_1line&#x27;, &#x27;ecology&#x27;],\n",
       "      dtype=&#x27;object&#x27;))])),\n",
       "                (&#x27;svd&#x27;, TruncatedSVD(n_components=100)),\n",
       "                (&#x27;regressor&#x27;, LinearRegression())])</pre><b>In a Jupyter environment, please rerun this cell to show the HTML representation or trust the notebook. <br />On GitHub, the HTML representation is unable to render, please try loading this page with nbviewer.org.</b></div><div class=\"sk-container\" hidden><div class=\"sk-item sk-dashed-wrapped\"><div class=\"sk-label-container\"><div class=\"sk-label sk-toggleable\"><input class=\"sk-toggleable__control sk-hidden--visually\" id=\"sk-estimator-id-1\" type=\"checkbox\" ><label for=\"sk-estimator-id-1\" class=\"sk-toggleable__label sk-toggleable__label-arrow\">Pipeline</label><div class=\"sk-toggleable__content\"><pre>Pipeline(steps=[(&#x27;preprocessor&#x27;,\n",
       "                 ColumnTransformer(transformers=[(&#x27;num&#x27;,\n",
       "                                                  VarianceThreshold(threshold=0.1),\n",
       "                                                  Index([&#x27;full_sq&#x27;, &#x27;life_sq&#x27;, &#x27;floor&#x27;, &#x27;area_m&#x27;, &#x27;raion_popul&#x27;,\n",
       "       &#x27;green_zone_part&#x27;, &#x27;indust_part&#x27;, &#x27;children_preschool&#x27;,\n",
       "       &#x27;preschool_education_centers_raion&#x27;, &#x27;children_school&#x27;,\n",
       "       ...\n",
       "       &#x27;cafe_count_5000_price_1500&#x27;, &#x27;cafe_count_5000_price_2500&#x27;,\n",
       "       &#x27;cafe_count_5000_pri...\n",
       "                                                  Index([&#x27;product_type&#x27;, &#x27;sub_area&#x27;, &#x27;culture_objects_top_25&#x27;,\n",
       "       &#x27;thermal_power_plant_raion&#x27;, &#x27;incineration_raion&#x27;,\n",
       "       &#x27;oil_chemistry_raion&#x27;, &#x27;radiation_raion&#x27;, &#x27;railroad_terminal_raion&#x27;,\n",
       "       &#x27;big_market_raion&#x27;, &#x27;nuclear_reactor_raion&#x27;, &#x27;detention_facility_raion&#x27;,\n",
       "       &#x27;water_1line&#x27;, &#x27;big_road1_1line&#x27;, &#x27;railroad_1line&#x27;, &#x27;ecology&#x27;],\n",
       "      dtype=&#x27;object&#x27;))])),\n",
       "                (&#x27;svd&#x27;, TruncatedSVD(n_components=100)),\n",
       "                (&#x27;regressor&#x27;, LinearRegression())])</pre></div></div></div><div class=\"sk-serial\"><div class=\"sk-item sk-dashed-wrapped\"><div class=\"sk-label-container\"><div class=\"sk-label sk-toggleable\"><input class=\"sk-toggleable__control sk-hidden--visually\" id=\"sk-estimator-id-2\" type=\"checkbox\" ><label for=\"sk-estimator-id-2\" class=\"sk-toggleable__label sk-toggleable__label-arrow\">preprocessor: ColumnTransformer</label><div class=\"sk-toggleable__content\"><pre>ColumnTransformer(transformers=[(&#x27;num&#x27;, VarianceThreshold(threshold=0.1),\n",
       "                                 Index([&#x27;full_sq&#x27;, &#x27;life_sq&#x27;, &#x27;floor&#x27;, &#x27;area_m&#x27;, &#x27;raion_popul&#x27;,\n",
       "       &#x27;green_zone_part&#x27;, &#x27;indust_part&#x27;, &#x27;children_preschool&#x27;,\n",
       "       &#x27;preschool_education_centers_raion&#x27;, &#x27;children_school&#x27;,\n",
       "       ...\n",
       "       &#x27;cafe_count_5000_price_1500&#x27;, &#x27;cafe_count_5000_price_2500&#x27;,\n",
       "       &#x27;cafe_count_5000_price_4000&#x27;, &#x27;cafe_count_5000_price_...\n",
       "                                (&#x27;cat&#x27;, OneHotEncoder(handle_unknown=&#x27;ignore&#x27;),\n",
       "                                 Index([&#x27;product_type&#x27;, &#x27;sub_area&#x27;, &#x27;culture_objects_top_25&#x27;,\n",
       "       &#x27;thermal_power_plant_raion&#x27;, &#x27;incineration_raion&#x27;,\n",
       "       &#x27;oil_chemistry_raion&#x27;, &#x27;radiation_raion&#x27;, &#x27;railroad_terminal_raion&#x27;,\n",
       "       &#x27;big_market_raion&#x27;, &#x27;nuclear_reactor_raion&#x27;, &#x27;detention_facility_raion&#x27;,\n",
       "       &#x27;water_1line&#x27;, &#x27;big_road1_1line&#x27;, &#x27;railroad_1line&#x27;, &#x27;ecology&#x27;],\n",
       "      dtype=&#x27;object&#x27;))])</pre></div></div></div><div class=\"sk-parallel\"><div class=\"sk-parallel-item\"><div class=\"sk-item\"><div class=\"sk-label-container\"><div class=\"sk-label sk-toggleable\"><input class=\"sk-toggleable__control sk-hidden--visually\" id=\"sk-estimator-id-3\" type=\"checkbox\" ><label for=\"sk-estimator-id-3\" class=\"sk-toggleable__label sk-toggleable__label-arrow\">num</label><div class=\"sk-toggleable__content\"><pre>Index([&#x27;full_sq&#x27;, &#x27;life_sq&#x27;, &#x27;floor&#x27;, &#x27;area_m&#x27;, &#x27;raion_popul&#x27;,\n",
       "       &#x27;green_zone_part&#x27;, &#x27;indust_part&#x27;, &#x27;children_preschool&#x27;,\n",
       "       &#x27;preschool_education_centers_raion&#x27;, &#x27;children_school&#x27;,\n",
       "       ...\n",
       "       &#x27;cafe_count_5000_price_1500&#x27;, &#x27;cafe_count_5000_price_2500&#x27;,\n",
       "       &#x27;cafe_count_5000_price_4000&#x27;, &#x27;cafe_count_5000_price_high&#x27;,\n",
       "       &#x27;big_church_count_5000&#x27;, &#x27;church_count_5000&#x27;, &#x27;mosque_count_5000&#x27;,\n",
       "       &#x27;leisure_count_5000&#x27;, &#x27;sport_count_5000&#x27;, &#x27;market_count_5000&#x27;],\n",
       "      dtype=&#x27;object&#x27;, length=256)</pre></div></div></div><div class=\"sk-serial\"><div class=\"sk-item\"><div class=\"sk-estimator sk-toggleable\"><input class=\"sk-toggleable__control sk-hidden--visually\" id=\"sk-estimator-id-4\" type=\"checkbox\" ><label for=\"sk-estimator-id-4\" class=\"sk-toggleable__label sk-toggleable__label-arrow\">VarianceThreshold</label><div class=\"sk-toggleable__content\"><pre>VarianceThreshold(threshold=0.1)</pre></div></div></div></div></div></div><div class=\"sk-parallel-item\"><div class=\"sk-item\"><div class=\"sk-label-container\"><div class=\"sk-label sk-toggleable\"><input class=\"sk-toggleable__control sk-hidden--visually\" id=\"sk-estimator-id-5\" type=\"checkbox\" ><label for=\"sk-estimator-id-5\" class=\"sk-toggleable__label sk-toggleable__label-arrow\">cat</label><div class=\"sk-toggleable__content\"><pre>Index([&#x27;product_type&#x27;, &#x27;sub_area&#x27;, &#x27;culture_objects_top_25&#x27;,\n",
       "       &#x27;thermal_power_plant_raion&#x27;, &#x27;incineration_raion&#x27;,\n",
       "       &#x27;oil_chemistry_raion&#x27;, &#x27;radiation_raion&#x27;, &#x27;railroad_terminal_raion&#x27;,\n",
       "       &#x27;big_market_raion&#x27;, &#x27;nuclear_reactor_raion&#x27;, &#x27;detention_facility_raion&#x27;,\n",
       "       &#x27;water_1line&#x27;, &#x27;big_road1_1line&#x27;, &#x27;railroad_1line&#x27;, &#x27;ecology&#x27;],\n",
       "      dtype=&#x27;object&#x27;)</pre></div></div></div><div class=\"sk-serial\"><div class=\"sk-item\"><div class=\"sk-estimator sk-toggleable\"><input class=\"sk-toggleable__control sk-hidden--visually\" id=\"sk-estimator-id-6\" type=\"checkbox\" ><label for=\"sk-estimator-id-6\" class=\"sk-toggleable__label sk-toggleable__label-arrow\">OneHotEncoder</label><div class=\"sk-toggleable__content\"><pre>OneHotEncoder(handle_unknown=&#x27;ignore&#x27;)</pre></div></div></div></div></div></div></div></div><div class=\"sk-item\"><div class=\"sk-estimator sk-toggleable\"><input class=\"sk-toggleable__control sk-hidden--visually\" id=\"sk-estimator-id-7\" type=\"checkbox\" ><label for=\"sk-estimator-id-7\" class=\"sk-toggleable__label sk-toggleable__label-arrow\">TruncatedSVD</label><div class=\"sk-toggleable__content\"><pre>TruncatedSVD(n_components=100)</pre></div></div></div><div class=\"sk-item\"><div class=\"sk-estimator sk-toggleable\"><input class=\"sk-toggleable__control sk-hidden--visually\" id=\"sk-estimator-id-8\" type=\"checkbox\" ><label for=\"sk-estimator-id-8\" class=\"sk-toggleable__label sk-toggleable__label-arrow\">LinearRegression</label><div class=\"sk-toggleable__content\"><pre>LinearRegression()</pre></div></div></div></div></div></div></div>"
      ],
      "text/plain": [
       "Pipeline(steps=[('preprocessor',\n",
       "                 ColumnTransformer(transformers=[('num',\n",
       "                                                  VarianceThreshold(threshold=0.1),\n",
       "                                                  Index(['full_sq', 'life_sq', 'floor', 'area_m', 'raion_popul',\n",
       "       'green_zone_part', 'indust_part', 'children_preschool',\n",
       "       'preschool_education_centers_raion', 'children_school',\n",
       "       ...\n",
       "       'cafe_count_5000_price_1500', 'cafe_count_5000_price_2500',\n",
       "       'cafe_count_5000_pri...\n",
       "                                                  Index(['product_type', 'sub_area', 'culture_objects_top_25',\n",
       "       'thermal_power_plant_raion', 'incineration_raion',\n",
       "       'oil_chemistry_raion', 'radiation_raion', 'railroad_terminal_raion',\n",
       "       'big_market_raion', 'nuclear_reactor_raion', 'detention_facility_raion',\n",
       "       'water_1line', 'big_road1_1line', 'railroad_1line', 'ecology'],\n",
       "      dtype='object'))])),\n",
       "                ('svd', TruncatedSVD(n_components=100)),\n",
       "                ('regressor', LinearRegression())])"
      ]
     },
     "execution_count": 7,
     "metadata": {},
     "output_type": "execute_result"
    }
   ],
   "source": [
    "# Model Training\n",
    "model.fit(X_train, y_train)"
   ]
  },
  {
   "cell_type": "code",
   "execution_count": 8,
   "metadata": {},
   "outputs": [
    {
     "name": "stdout",
     "output_type": "stream",
     "text": [
      "Number of Features Used: 2208\n",
      "Validation RMSE: 13774654.570801115\n"
     ]
    }
   ],
   "source": [
    "# Validation Prediction\n",
    "y_pred_val = model.predict(X_val)\n",
    "\n",
    "# Print the number of features used\n",
    "num_features_used = model.named_steps['preprocessor'].transform(X_train).shape[1]\n",
    "print(f'Number of Features Used: {num_features_used}')\n",
    "\n",
    "# RMSE calculation for the validation set\n",
    "rmse_val = np.sqrt(mean_squared_error(y_val, y_pred_val))\n",
    "print(f'Validation RMSE: {rmse_val}')\n",
    "\n",
    "# Preparing the test set for final prediction\n",
    "X_test = test_df.copy()\n",
    "\n",
    "# # Feature selection and transformation for test set\n",
    "# X_test_transformed = model.named_steps['preprocessor'].transform(X_test)\n",
    "# X_test_selected = model.named_steps['feature_selection'].transform(X_test_transformed)\n",
    "\n",
    "# Final Prediction for submission\n",
    "predicted_price = model.predict(X_test)\n",
    "\n",
    "# Create submission DataFrame\n",
    "submission_df = pd.DataFrame({\n",
    "    'row ID': test_df['row ID'],\n",
    "    'price_doc': predicted_price\n",
    "})\n",
    "\n",
    "# Save the DataFrame to a CSV file\n",
    "submission_df.to_csv('prediction_linearRegression.csv', index=False)"
   ]
  },
  {
   "cell_type": "code",
   "execution_count": 51,
   "metadata": {},
   "outputs": [
    {
     "data": {
      "text/html": [
       "<style>#sk-container-id-6 {color: black;}#sk-container-id-6 pre{padding: 0;}#sk-container-id-6 div.sk-toggleable {background-color: white;}#sk-container-id-6 label.sk-toggleable__label {cursor: pointer;display: block;width: 100%;margin-bottom: 0;padding: 0.3em;box-sizing: border-box;text-align: center;}#sk-container-id-6 label.sk-toggleable__label-arrow:before {content: \"▸\";float: left;margin-right: 0.25em;color: #696969;}#sk-container-id-6 label.sk-toggleable__label-arrow:hover:before {color: black;}#sk-container-id-6 div.sk-estimator:hover label.sk-toggleable__label-arrow:before {color: black;}#sk-container-id-6 div.sk-toggleable__content {max-height: 0;max-width: 0;overflow: hidden;text-align: left;background-color: #f0f8ff;}#sk-container-id-6 div.sk-toggleable__content pre {margin: 0.2em;color: black;border-radius: 0.25em;background-color: #f0f8ff;}#sk-container-id-6 input.sk-toggleable__control:checked~div.sk-toggleable__content {max-height: 200px;max-width: 100%;overflow: auto;}#sk-container-id-6 input.sk-toggleable__control:checked~label.sk-toggleable__label-arrow:before {content: \"▾\";}#sk-container-id-6 div.sk-estimator input.sk-toggleable__control:checked~label.sk-toggleable__label {background-color: #d4ebff;}#sk-container-id-6 div.sk-label input.sk-toggleable__control:checked~label.sk-toggleable__label {background-color: #d4ebff;}#sk-container-id-6 input.sk-hidden--visually {border: 0;clip: rect(1px 1px 1px 1px);clip: rect(1px, 1px, 1px, 1px);height: 1px;margin: -1px;overflow: hidden;padding: 0;position: absolute;width: 1px;}#sk-container-id-6 div.sk-estimator {font-family: monospace;background-color: #f0f8ff;border: 1px dotted black;border-radius: 0.25em;box-sizing: border-box;margin-bottom: 0.5em;}#sk-container-id-6 div.sk-estimator:hover {background-color: #d4ebff;}#sk-container-id-6 div.sk-parallel-item::after {content: \"\";width: 100%;border-bottom: 1px solid gray;flex-grow: 1;}#sk-container-id-6 div.sk-label:hover label.sk-toggleable__label {background-color: #d4ebff;}#sk-container-id-6 div.sk-serial::before {content: \"\";position: absolute;border-left: 1px solid gray;box-sizing: border-box;top: 0;bottom: 0;left: 50%;z-index: 0;}#sk-container-id-6 div.sk-serial {display: flex;flex-direction: column;align-items: center;background-color: white;padding-right: 0.2em;padding-left: 0.2em;position: relative;}#sk-container-id-6 div.sk-item {position: relative;z-index: 1;}#sk-container-id-6 div.sk-parallel {display: flex;align-items: stretch;justify-content: center;background-color: white;position: relative;}#sk-container-id-6 div.sk-item::before, #sk-container-id-6 div.sk-parallel-item::before {content: \"\";position: absolute;border-left: 1px solid gray;box-sizing: border-box;top: 0;bottom: 0;left: 50%;z-index: -1;}#sk-container-id-6 div.sk-parallel-item {display: flex;flex-direction: column;z-index: 1;position: relative;background-color: white;}#sk-container-id-6 div.sk-parallel-item:first-child::after {align-self: flex-end;width: 50%;}#sk-container-id-6 div.sk-parallel-item:last-child::after {align-self: flex-start;width: 50%;}#sk-container-id-6 div.sk-parallel-item:only-child::after {width: 0;}#sk-container-id-6 div.sk-dashed-wrapped {border: 1px dashed gray;margin: 0 0.4em 0.5em 0.4em;box-sizing: border-box;padding-bottom: 0.4em;background-color: white;}#sk-container-id-6 div.sk-label label {font-family: monospace;font-weight: bold;display: inline-block;line-height: 1.2em;}#sk-container-id-6 div.sk-label-container {text-align: center;}#sk-container-id-6 div.sk-container {/* jupyter's `normalize.less` sets `[hidden] { display: none; }` but bootstrap.min.css set `[hidden] { display: none !important; }` so we also need the `!important` here to be able to override the default hidden behavior on the sphinx rendered scikit-learn.org. See: https://github.com/scikit-learn/scikit-learn/issues/21755 */display: inline-block !important;position: relative;}#sk-container-id-6 div.sk-text-repr-fallback {display: none;}</style><div id=\"sk-container-id-6\" class=\"sk-top-container\"><div class=\"sk-text-repr-fallback\"><pre>Pipeline(steps=[(&#x27;preprocessor&#x27;,\n",
       "                 ColumnTransformer(transformers=[(&#x27;num&#x27;, StandardScaler(),\n",
       "                                                  Index([&#x27;full_sq&#x27;, &#x27;life_sq&#x27;, &#x27;floor&#x27;, &#x27;area_m&#x27;, &#x27;raion_popul&#x27;,\n",
       "       &#x27;green_zone_part&#x27;, &#x27;indust_part&#x27;, &#x27;children_preschool&#x27;,\n",
       "       &#x27;preschool_education_centers_raion&#x27;, &#x27;children_school&#x27;,\n",
       "       ...\n",
       "       &#x27;cafe_count_5000_price_1500&#x27;, &#x27;cafe_count_5000_price_2500&#x27;,\n",
       "       &#x27;cafe_count_5000_price_4000&#x27;, &#x27;cafe_c...\n",
       "                                                  Index([&#x27;product_type&#x27;, &#x27;sub_area&#x27;, &#x27;culture_objects_top_25&#x27;,\n",
       "       &#x27;thermal_power_plant_raion&#x27;, &#x27;incineration_raion&#x27;,\n",
       "       &#x27;oil_chemistry_raion&#x27;, &#x27;radiation_raion&#x27;, &#x27;railroad_terminal_raion&#x27;,\n",
       "       &#x27;big_market_raion&#x27;, &#x27;nuclear_reactor_raion&#x27;, &#x27;detention_facility_raion&#x27;,\n",
       "       &#x27;water_1line&#x27;, &#x27;big_road1_1line&#x27;, &#x27;railroad_1line&#x27;, &#x27;ecology&#x27;],\n",
       "      dtype=&#x27;object&#x27;))])),\n",
       "                (&#x27;pca&#x27;, TruncatedSVD(n_components=1000)),\n",
       "                (&#x27;regressor&#x27;, LinearRegression())])</pre><b>In a Jupyter environment, please rerun this cell to show the HTML representation or trust the notebook. <br />On GitHub, the HTML representation is unable to render, please try loading this page with nbviewer.org.</b></div><div class=\"sk-container\" hidden><div class=\"sk-item sk-dashed-wrapped\"><div class=\"sk-label-container\"><div class=\"sk-label sk-toggleable\"><input class=\"sk-toggleable__control sk-hidden--visually\" id=\"sk-estimator-id-27\" type=\"checkbox\" ><label for=\"sk-estimator-id-27\" class=\"sk-toggleable__label sk-toggleable__label-arrow\">Pipeline</label><div class=\"sk-toggleable__content\"><pre>Pipeline(steps=[(&#x27;preprocessor&#x27;,\n",
       "                 ColumnTransformer(transformers=[(&#x27;num&#x27;, StandardScaler(),\n",
       "                                                  Index([&#x27;full_sq&#x27;, &#x27;life_sq&#x27;, &#x27;floor&#x27;, &#x27;area_m&#x27;, &#x27;raion_popul&#x27;,\n",
       "       &#x27;green_zone_part&#x27;, &#x27;indust_part&#x27;, &#x27;children_preschool&#x27;,\n",
       "       &#x27;preschool_education_centers_raion&#x27;, &#x27;children_school&#x27;,\n",
       "       ...\n",
       "       &#x27;cafe_count_5000_price_1500&#x27;, &#x27;cafe_count_5000_price_2500&#x27;,\n",
       "       &#x27;cafe_count_5000_price_4000&#x27;, &#x27;cafe_c...\n",
       "                                                  Index([&#x27;product_type&#x27;, &#x27;sub_area&#x27;, &#x27;culture_objects_top_25&#x27;,\n",
       "       &#x27;thermal_power_plant_raion&#x27;, &#x27;incineration_raion&#x27;,\n",
       "       &#x27;oil_chemistry_raion&#x27;, &#x27;radiation_raion&#x27;, &#x27;railroad_terminal_raion&#x27;,\n",
       "       &#x27;big_market_raion&#x27;, &#x27;nuclear_reactor_raion&#x27;, &#x27;detention_facility_raion&#x27;,\n",
       "       &#x27;water_1line&#x27;, &#x27;big_road1_1line&#x27;, &#x27;railroad_1line&#x27;, &#x27;ecology&#x27;],\n",
       "      dtype=&#x27;object&#x27;))])),\n",
       "                (&#x27;pca&#x27;, TruncatedSVD(n_components=1000)),\n",
       "                (&#x27;regressor&#x27;, LinearRegression())])</pre></div></div></div><div class=\"sk-serial\"><div class=\"sk-item sk-dashed-wrapped\"><div class=\"sk-label-container\"><div class=\"sk-label sk-toggleable\"><input class=\"sk-toggleable__control sk-hidden--visually\" id=\"sk-estimator-id-28\" type=\"checkbox\" ><label for=\"sk-estimator-id-28\" class=\"sk-toggleable__label sk-toggleable__label-arrow\">preprocessor: ColumnTransformer</label><div class=\"sk-toggleable__content\"><pre>ColumnTransformer(transformers=[(&#x27;num&#x27;, StandardScaler(),\n",
       "                                 Index([&#x27;full_sq&#x27;, &#x27;life_sq&#x27;, &#x27;floor&#x27;, &#x27;area_m&#x27;, &#x27;raion_popul&#x27;,\n",
       "       &#x27;green_zone_part&#x27;, &#x27;indust_part&#x27;, &#x27;children_preschool&#x27;,\n",
       "       &#x27;preschool_education_centers_raion&#x27;, &#x27;children_school&#x27;,\n",
       "       ...\n",
       "       &#x27;cafe_count_5000_price_1500&#x27;, &#x27;cafe_count_5000_price_2500&#x27;,\n",
       "       &#x27;cafe_count_5000_price_4000&#x27;, &#x27;cafe_count_5000_price_high&#x27;,\n",
       "       &#x27;big_churc...\n",
       "                                (&#x27;cat&#x27;, OneHotEncoder(handle_unknown=&#x27;ignore&#x27;),\n",
       "                                 Index([&#x27;product_type&#x27;, &#x27;sub_area&#x27;, &#x27;culture_objects_top_25&#x27;,\n",
       "       &#x27;thermal_power_plant_raion&#x27;, &#x27;incineration_raion&#x27;,\n",
       "       &#x27;oil_chemistry_raion&#x27;, &#x27;radiation_raion&#x27;, &#x27;railroad_terminal_raion&#x27;,\n",
       "       &#x27;big_market_raion&#x27;, &#x27;nuclear_reactor_raion&#x27;, &#x27;detention_facility_raion&#x27;,\n",
       "       &#x27;water_1line&#x27;, &#x27;big_road1_1line&#x27;, &#x27;railroad_1line&#x27;, &#x27;ecology&#x27;],\n",
       "      dtype=&#x27;object&#x27;))])</pre></div></div></div><div class=\"sk-parallel\"><div class=\"sk-parallel-item\"><div class=\"sk-item\"><div class=\"sk-label-container\"><div class=\"sk-label sk-toggleable\"><input class=\"sk-toggleable__control sk-hidden--visually\" id=\"sk-estimator-id-29\" type=\"checkbox\" ><label for=\"sk-estimator-id-29\" class=\"sk-toggleable__label sk-toggleable__label-arrow\">num</label><div class=\"sk-toggleable__content\"><pre>Index([&#x27;full_sq&#x27;, &#x27;life_sq&#x27;, &#x27;floor&#x27;, &#x27;area_m&#x27;, &#x27;raion_popul&#x27;,\n",
       "       &#x27;green_zone_part&#x27;, &#x27;indust_part&#x27;, &#x27;children_preschool&#x27;,\n",
       "       &#x27;preschool_education_centers_raion&#x27;, &#x27;children_school&#x27;,\n",
       "       ...\n",
       "       &#x27;cafe_count_5000_price_1500&#x27;, &#x27;cafe_count_5000_price_2500&#x27;,\n",
       "       &#x27;cafe_count_5000_price_4000&#x27;, &#x27;cafe_count_5000_price_high&#x27;,\n",
       "       &#x27;big_church_count_5000&#x27;, &#x27;church_count_5000&#x27;, &#x27;mosque_count_5000&#x27;,\n",
       "       &#x27;leisure_count_5000&#x27;, &#x27;sport_count_5000&#x27;, &#x27;market_count_5000&#x27;],\n",
       "      dtype=&#x27;object&#x27;, length=256)</pre></div></div></div><div class=\"sk-serial\"><div class=\"sk-item\"><div class=\"sk-estimator sk-toggleable\"><input class=\"sk-toggleable__control sk-hidden--visually\" id=\"sk-estimator-id-30\" type=\"checkbox\" ><label for=\"sk-estimator-id-30\" class=\"sk-toggleable__label sk-toggleable__label-arrow\">StandardScaler</label><div class=\"sk-toggleable__content\"><pre>StandardScaler()</pre></div></div></div></div></div></div><div class=\"sk-parallel-item\"><div class=\"sk-item\"><div class=\"sk-label-container\"><div class=\"sk-label sk-toggleable\"><input class=\"sk-toggleable__control sk-hidden--visually\" id=\"sk-estimator-id-31\" type=\"checkbox\" ><label for=\"sk-estimator-id-31\" class=\"sk-toggleable__label sk-toggleable__label-arrow\">cat</label><div class=\"sk-toggleable__content\"><pre>Index([&#x27;product_type&#x27;, &#x27;sub_area&#x27;, &#x27;culture_objects_top_25&#x27;,\n",
       "       &#x27;thermal_power_plant_raion&#x27;, &#x27;incineration_raion&#x27;,\n",
       "       &#x27;oil_chemistry_raion&#x27;, &#x27;radiation_raion&#x27;, &#x27;railroad_terminal_raion&#x27;,\n",
       "       &#x27;big_market_raion&#x27;, &#x27;nuclear_reactor_raion&#x27;, &#x27;detention_facility_raion&#x27;,\n",
       "       &#x27;water_1line&#x27;, &#x27;big_road1_1line&#x27;, &#x27;railroad_1line&#x27;, &#x27;ecology&#x27;],\n",
       "      dtype=&#x27;object&#x27;)</pre></div></div></div><div class=\"sk-serial\"><div class=\"sk-item\"><div class=\"sk-estimator sk-toggleable\"><input class=\"sk-toggleable__control sk-hidden--visually\" id=\"sk-estimator-id-32\" type=\"checkbox\" ><label for=\"sk-estimator-id-32\" class=\"sk-toggleable__label sk-toggleable__label-arrow\">OneHotEncoder</label><div class=\"sk-toggleable__content\"><pre>OneHotEncoder(handle_unknown=&#x27;ignore&#x27;)</pre></div></div></div></div></div></div></div></div><div class=\"sk-item\"><div class=\"sk-estimator sk-toggleable\"><input class=\"sk-toggleable__control sk-hidden--visually\" id=\"sk-estimator-id-33\" type=\"checkbox\" ><label for=\"sk-estimator-id-33\" class=\"sk-toggleable__label sk-toggleable__label-arrow\">TruncatedSVD</label><div class=\"sk-toggleable__content\"><pre>TruncatedSVD(n_components=1000)</pre></div></div></div><div class=\"sk-item\"><div class=\"sk-estimator sk-toggleable\"><input class=\"sk-toggleable__control sk-hidden--visually\" id=\"sk-estimator-id-34\" type=\"checkbox\" ><label for=\"sk-estimator-id-34\" class=\"sk-toggleable__label sk-toggleable__label-arrow\">LinearRegression</label><div class=\"sk-toggleable__content\"><pre>LinearRegression()</pre></div></div></div></div></div></div></div>"
      ],
      "text/plain": [
       "Pipeline(steps=[('preprocessor',\n",
       "                 ColumnTransformer(transformers=[('num', StandardScaler(),\n",
       "                                                  Index(['full_sq', 'life_sq', 'floor', 'area_m', 'raion_popul',\n",
       "       'green_zone_part', 'indust_part', 'children_preschool',\n",
       "       'preschool_education_centers_raion', 'children_school',\n",
       "       ...\n",
       "       'cafe_count_5000_price_1500', 'cafe_count_5000_price_2500',\n",
       "       'cafe_count_5000_price_4000', 'cafe_c...\n",
       "                                                  Index(['product_type', 'sub_area', 'culture_objects_top_25',\n",
       "       'thermal_power_plant_raion', 'incineration_raion',\n",
       "       'oil_chemistry_raion', 'radiation_raion', 'railroad_terminal_raion',\n",
       "       'big_market_raion', 'nuclear_reactor_raion', 'detention_facility_raion',\n",
       "       'water_1line', 'big_road1_1line', 'railroad_1line', 'ecology'],\n",
       "      dtype='object'))])),\n",
       "                ('pca', TruncatedSVD(n_components=1000)),\n",
       "                ('regressor', LinearRegression())])"
      ]
     },
     "execution_count": 51,
     "metadata": {},
     "output_type": "execute_result"
    }
   ],
   "source": [
    "# Model Training\n",
    "model.fit(X_train, y_train)"
   ]
  },
  {
   "cell_type": "code",
   "execution_count": 20,
   "metadata": {},
   "outputs": [
    {
     "name": "stderr",
     "output_type": "stream",
     "text": [
      "C:\\Users\\faizan\\AppData\\Local\\Temp\\ipykernel_5380\\3670900005.py:2: FutureWarning: DataFrame.fillna with 'method' is deprecated and will raise in a future version. Use obj.ffill() or obj.bfill() instead.\n",
      "  train_df.fillna(method='ffill', inplace=True)\n",
      "C:\\Users\\faizan\\AppData\\Local\\Temp\\ipykernel_5380\\3670900005.py:3: FutureWarning: DataFrame.fillna with 'method' is deprecated and will raise in a future version. Use obj.ffill() or obj.bfill() instead.\n",
      "  test_df.fillna(method='ffill', inplace=True)\n"
     ]
    }
   ],
   "source": [
    "# Data Preparation\n",
    "train_df.fillna(method='ffill', inplace=True)\n",
    "test_df.fillna(method='ffill', inplace=True)"
   ]
  },
  {
   "cell_type": "markdown",
   "metadata": {},
   "source": [
    "DUMMY ENCODING"
   ]
  },
  {
   "cell_type": "code",
   "execution_count": 47,
   "metadata": {},
   "outputs": [],
   "source": [
    "# Convert categorical variables to dummy variables\n",
    "train_df_dummies = pd.get_dummies(train_df)\n",
    "test_df_dummies = pd.get_dummies(test_df)"
   ]
  },
  {
   "cell_type": "code",
   "execution_count": 48,
   "metadata": {},
   "outputs": [],
   "source": [
    "# Ensure that both datasets have the same dummy variables\n",
    "train_df_dummies, test_df_dummies = train_df_dummies.align(test_df_dummies, join='left', axis=1)\n",
    "test_df_dummies.fillna(0, inplace=True)"
   ]
  },
  {
   "cell_type": "code",
   "execution_count": 49,
   "metadata": {},
   "outputs": [],
   "source": [
    "# Split train data into features and target\n",
    "# Drop 'price_doc' only if 'id' is not in the DataFrame\n",
    "if 'id' in train_df_dummies.columns:\n",
    "    X = train_df_dummies.drop(['price_doc', 'id'], axis=1)\n",
    "else:\n",
    "    X = train_df_dummies.drop(['price_doc'], axis=1)\n",
    "y = train_df_dummies['price_doc']"
   ]
  },
  {
   "cell_type": "markdown",
   "metadata": {},
   "source": [
    "LABEL ENCODING"
   ]
  },
  {
   "cell_type": "code",
   "execution_count": 4,
   "metadata": {},
   "outputs": [],
   "source": [
    "# Label encoding for categorical variables\n",
    "label_encoder = LabelEncoder()\n",
    "\n",
    "for col in train_df.select_dtypes(include=['object']).columns:\n",
    "    train_df[col] = label_encoder.fit_transform(train_df[col])\n",
    "    test_df[col] = label_encoder.transform(test_df[col])\n",
    "\n",
    "    # Extract features and target variable\n",
    "X = train_df.drop(['price_doc'], axis=1)\n",
    "y = train_df['price_doc']"
   ]
  },
  {
   "cell_type": "code",
   "execution_count": 5,
   "metadata": {},
   "outputs": [],
   "source": [
    "# Split data into training and validation sets\n",
    "X_train, X_val, y_train, y_val = train_test_split(X, y, test_size=0.2, random_state=42)"
   ]
  },
  {
   "cell_type": "markdown",
   "metadata": {},
   "source": [
    "STANDARD SCALER"
   ]
  },
  {
   "cell_type": "code",
   "execution_count": 6,
   "metadata": {},
   "outputs": [],
   "source": [
    "# Normalize numerical variables\n",
    "scaler = StandardScaler()\n",
    "numerical_cols = X_train.select_dtypes(include=[np.number]).columns\n",
    "X_train[numerical_cols] = scaler.fit_transform(X_train[numerical_cols])\n",
    "X_val[numerical_cols] = scaler.transform(X_val[numerical_cols])"
   ]
  },
  {
   "cell_type": "markdown",
   "metadata": {},
   "source": [
    "MIN MAX SCALER"
   ]
  },
  {
   "cell_type": "code",
   "execution_count": 51,
   "metadata": {},
   "outputs": [],
   "source": [
    "# Normalize numerical variables using MinMaxScaler\n",
    "scaler = MinMaxScaler()\n",
    "numerical_cols = X_train.select_dtypes(include=[np.number]).columns\n",
    "X_train[numerical_cols] = scaler.fit_transform(X_train[numerical_cols])\n",
    "\n",
    "# Apply the same scaler to validation and test sets\n",
    "X_val[numerical_cols] = scaler.transform(X_val[numerical_cols])\n",
    "X_test = test_df_dummies.copy()\n",
    "X_test[numerical_cols] = scaler.transform(X_test[numerical_cols])"
   ]
  },
  {
   "cell_type": "markdown",
   "metadata": {},
   "source": [
    "FEATURE SELECTION (FORWARD SELECTION)"
   ]
  },
  {
   "cell_type": "code",
   "execution_count": null,
   "metadata": {},
   "outputs": [],
   "source": [
    "# Forward Selection using mlxtend\n",
    "feature_selector = SequentialFeatureSelector(LinearRegression(),\n",
    "                                             k_features='best',\n",
    "                                             forward=True,\n",
    "                                             floating=False,\n",
    "                                             scoring='neg_mean_squared_error',\n",
    "                                             cv=5)\n",
    "\n",
    "feature_selector.fit(X_train, y_train)\n",
    "\n",
    "# Selected features\n",
    "selected_features = list(X_train.columns[list(feature_selector.k_feature_idx_)])"
   ]
  },
  {
   "cell_type": "code",
   "execution_count": 13,
   "metadata": {},
   "outputs": [
    {
     "data": {
      "text/html": [
       "<style>#sk-container-id-2 {color: black;}#sk-container-id-2 pre{padding: 0;}#sk-container-id-2 div.sk-toggleable {background-color: white;}#sk-container-id-2 label.sk-toggleable__label {cursor: pointer;display: block;width: 100%;margin-bottom: 0;padding: 0.3em;box-sizing: border-box;text-align: center;}#sk-container-id-2 label.sk-toggleable__label-arrow:before {content: \"▸\";float: left;margin-right: 0.25em;color: #696969;}#sk-container-id-2 label.sk-toggleable__label-arrow:hover:before {color: black;}#sk-container-id-2 div.sk-estimator:hover label.sk-toggleable__label-arrow:before {color: black;}#sk-container-id-2 div.sk-toggleable__content {max-height: 0;max-width: 0;overflow: hidden;text-align: left;background-color: #f0f8ff;}#sk-container-id-2 div.sk-toggleable__content pre {margin: 0.2em;color: black;border-radius: 0.25em;background-color: #f0f8ff;}#sk-container-id-2 input.sk-toggleable__control:checked~div.sk-toggleable__content {max-height: 200px;max-width: 100%;overflow: auto;}#sk-container-id-2 input.sk-toggleable__control:checked~label.sk-toggleable__label-arrow:before {content: \"▾\";}#sk-container-id-2 div.sk-estimator input.sk-toggleable__control:checked~label.sk-toggleable__label {background-color: #d4ebff;}#sk-container-id-2 div.sk-label input.sk-toggleable__control:checked~label.sk-toggleable__label {background-color: #d4ebff;}#sk-container-id-2 input.sk-hidden--visually {border: 0;clip: rect(1px 1px 1px 1px);clip: rect(1px, 1px, 1px, 1px);height: 1px;margin: -1px;overflow: hidden;padding: 0;position: absolute;width: 1px;}#sk-container-id-2 div.sk-estimator {font-family: monospace;background-color: #f0f8ff;border: 1px dotted black;border-radius: 0.25em;box-sizing: border-box;margin-bottom: 0.5em;}#sk-container-id-2 div.sk-estimator:hover {background-color: #d4ebff;}#sk-container-id-2 div.sk-parallel-item::after {content: \"\";width: 100%;border-bottom: 1px solid gray;flex-grow: 1;}#sk-container-id-2 div.sk-label:hover label.sk-toggleable__label {background-color: #d4ebff;}#sk-container-id-2 div.sk-serial::before {content: \"\";position: absolute;border-left: 1px solid gray;box-sizing: border-box;top: 0;bottom: 0;left: 50%;z-index: 0;}#sk-container-id-2 div.sk-serial {display: flex;flex-direction: column;align-items: center;background-color: white;padding-right: 0.2em;padding-left: 0.2em;position: relative;}#sk-container-id-2 div.sk-item {position: relative;z-index: 1;}#sk-container-id-2 div.sk-parallel {display: flex;align-items: stretch;justify-content: center;background-color: white;position: relative;}#sk-container-id-2 div.sk-item::before, #sk-container-id-2 div.sk-parallel-item::before {content: \"\";position: absolute;border-left: 1px solid gray;box-sizing: border-box;top: 0;bottom: 0;left: 50%;z-index: -1;}#sk-container-id-2 div.sk-parallel-item {display: flex;flex-direction: column;z-index: 1;position: relative;background-color: white;}#sk-container-id-2 div.sk-parallel-item:first-child::after {align-self: flex-end;width: 50%;}#sk-container-id-2 div.sk-parallel-item:last-child::after {align-self: flex-start;width: 50%;}#sk-container-id-2 div.sk-parallel-item:only-child::after {width: 0;}#sk-container-id-2 div.sk-dashed-wrapped {border: 1px dashed gray;margin: 0 0.4em 0.5em 0.4em;box-sizing: border-box;padding-bottom: 0.4em;background-color: white;}#sk-container-id-2 div.sk-label label {font-family: monospace;font-weight: bold;display: inline-block;line-height: 1.2em;}#sk-container-id-2 div.sk-label-container {text-align: center;}#sk-container-id-2 div.sk-container {/* jupyter's `normalize.less` sets `[hidden] { display: none; }` but bootstrap.min.css set `[hidden] { display: none !important; }` so we also need the `!important` here to be able to override the default hidden behavior on the sphinx rendered scikit-learn.org. See: https://github.com/scikit-learn/scikit-learn/issues/21755 */display: inline-block !important;position: relative;}#sk-container-id-2 div.sk-text-repr-fallback {display: none;}</style><div id=\"sk-container-id-2\" class=\"sk-top-container\"><div class=\"sk-text-repr-fallback\"><pre>LinearRegression(fit_intercept=False)</pre><b>In a Jupyter environment, please rerun this cell to show the HTML representation or trust the notebook. <br />On GitHub, the HTML representation is unable to render, please try loading this page with nbviewer.org.</b></div><div class=\"sk-container\" hidden><div class=\"sk-item\"><div class=\"sk-estimator sk-toggleable\"><input class=\"sk-toggleable__control sk-hidden--visually\" id=\"sk-estimator-id-2\" type=\"checkbox\" checked><label for=\"sk-estimator-id-2\" class=\"sk-toggleable__label sk-toggleable__label-arrow\">LinearRegression</label><div class=\"sk-toggleable__content\"><pre>LinearRegression(fit_intercept=False)</pre></div></div></div></div></div>"
      ],
      "text/plain": [
       "LinearRegression(fit_intercept=False)"
      ]
     },
     "execution_count": 13,
     "metadata": {},
     "output_type": "execute_result"
    }
   ],
   "source": [
    "# Model Training\n",
    "model = LinearRegression(fit_intercept=False)\n",
    "model.fit(X_train, y_train)"
   ]
  },
  {
   "cell_type": "markdown",
   "metadata": {},
   "source": [
    "Validation prediction when forward selection is applied"
   ]
  },
  {
   "cell_type": "code",
   "execution_count": null,
   "metadata": {},
   "outputs": [],
   "source": [
    "# Validation Prediction\n",
    "X_val[selected_features] = scaler.transform(X_val[selected_features])  # Normalize validation set\n",
    "y_pred_val = model.predict(X_val[selected_features])"
   ]
  },
  {
   "cell_type": "code",
   "execution_count": 64,
   "metadata": {},
   "outputs": [],
   "source": [
    "# Validation Prediction\n",
    "X_val[numerical_cols] = scaler.transform(X_val[numerical_cols])  # Normalize validation set\n",
    "y_pred_val = model.predict(X_val)"
   ]
  },
  {
   "cell_type": "code",
   "execution_count": 65,
   "metadata": {},
   "outputs": [
    {
     "name": "stdout",
     "output_type": "stream",
     "text": [
      "Validation RMSE: 22891288.332712375\n"
     ]
    }
   ],
   "source": [
    "# RMSE calculation for the validation set\n",
    "import numpy as np\n",
    "rmse_val = np.sqrt(mean_squared_error(y_val, y_pred_val))\n",
    "print(f'Validation RMSE: {rmse_val}')"
   ]
  },
  {
   "cell_type": "code",
   "execution_count": 14,
   "metadata": {},
   "outputs": [
    {
     "name": "stdout",
     "output_type": "stream",
     "text": [
      "Validation RMSE: 622921576.0661032\n"
     ]
    }
   ],
   "source": [
    "# Validation Prediction\n",
    "X_val[numerical_cols] = scaler.transform(X_val[numerical_cols])  # Normalize validation set\n",
    "y_pred_val = model.predict(X_val)\n",
    "\n",
    "# RMSE calculation for the validation set\n",
    "rmse_val = np.sqrt(mean_squared_error(y_val, y_pred_val))\n",
    "print(f'Validation RMSE: {rmse_val}')\n",
    "\n",
    "# Preparing the test set for final prediction\n",
    "X_test = test_df.copy()\n",
    "X_test[numerical_cols] = scaler.transform(X_test[numerical_cols])  # Normalize test set\n",
    "\n",
    "# Ensure the test set has the same columns as the training set\n",
    "X_test = X_test.reindex(columns=X_train.columns).fillna(0)\n",
    "\n",
    "# Final Prediction for submission\n",
    "predicted_price = model.predict(X_test)\n",
    "\n",
    "# Create submission DataFrame\n",
    "submission_df = pd.DataFrame({\n",
    "    'row ID': test_df['row ID'],\n",
    "    'price_doc': predicted_price\n",
    "})\n",
    "\n",
    "# Save the DataFrame to a CSV file\n",
    "submission_df.to_csv('prediction_linearRegression.csv', index=False)"
   ]
  },
  {
   "cell_type": "code",
   "execution_count": null,
   "metadata": {},
   "outputs": [],
   "source": [
    "# Preparing the test set for final prediction\n",
    "X_test = test_df_dummies.copy()\n",
    "X_test[numerical_cols] = scaler.transform(X_test[numerical_cols])  # Normalize test set\n",
    "\n",
    "# Ensure the test set has the same columns as the training set\n",
    "X_test = X_test.reindex(columns=X_train.columns).fillna(0)\n",
    "\n",
    "# Final Prediction for submission\n",
    "predicted_price = model.predict(X_test)\n",
    "\n",
    "# Create submission DataFrame\n",
    "submission_df = pd.DataFrame({\n",
    "    'row ID': test_df['row ID'],\n",
    "    'price_doc': predicted_price\n",
    "})\n",
    "\n",
    "# Save the DataFrame to a CSV file\n",
    "submission_df.to_csv('prediction_linearRegression.csv', index=False)"
   ]
  },
  {
   "cell_type": "markdown",
   "metadata": {},
   "source": [
    "Final pred when using forward selection"
   ]
  },
  {
   "cell_type": "code",
   "execution_count": null,
   "metadata": {},
   "outputs": [],
   "source": [
    "# Preparing the test set for final prediction\n",
    "X_test = test_df.copy()\n",
    "X_test[numerical_cols] = scaler.transform(X_test[numerical_cols])  # Normalize test set\n",
    "\n",
    "# Ensure the test set has the same columns as the training set\n",
    "X_test = X_test[selected_features].fillna(0)\n",
    "\n",
    "# Final Prediction for submission\n",
    "predicted_price = model.predict(X_test)\n",
    "\n",
    "# Create submission DataFrame\n",
    "submission_df = pd.DataFrame({\n",
    "    'row ID': test_df['row ID'],\n",
    "    'price_doc': predicted_price\n",
    "})\n",
    "# Save the DataFrame to a CSV file\n",
    "submission_df.to_csv('prediction_linearRegression.csv', index=False)"
   ]
  },
  {
   "cell_type": "code",
   "execution_count": 41,
   "metadata": {},
   "outputs": [],
   "source": [
    "\n",
    "# Preparing the test set for final prediction\n",
    "# Drop 'id' only if it is in the DataFrame\n",
    "if 'id' in test_df_dummies.columns:\n",
    "    X_test = test_df_dummies.drop(['id'], axis=1)\n",
    "else:\n",
    "    X_test = test_df_dummies.copy()\n",
    "\n",
    "# Ensure the test set has the same columns as the training set\n",
    "X_test = X_test.reindex(columns=X_train.columns).fillna(0)\n",
    "\n",
    "# Rest of your code for prediction and creating submission file...\n"
   ]
  },
  {
   "cell_type": "code",
   "execution_count": 42,
   "metadata": {},
   "outputs": [],
   "source": [
    "# Final Prediction for submission\n",
    "predicted_price = model.predict(X_test)"
   ]
  },
  {
   "cell_type": "code",
   "execution_count": 25,
   "metadata": {},
   "outputs": [
    {
     "data": {
      "text/plain": [
       "Index(['row ID', 'full_sq', 'life_sq', 'floor', 'product_type', 'sub_area',\n",
       "       'area_m', 'raion_popul', 'green_zone_part', 'indust_part',\n",
       "       ...\n",
       "       'cafe_count_5000_price_1500', 'cafe_count_5000_price_2500',\n",
       "       'cafe_count_5000_price_4000', 'cafe_count_5000_price_high',\n",
       "       'big_church_count_5000', 'church_count_5000', 'mosque_count_5000',\n",
       "       'leisure_count_5000', 'sport_count_5000', 'market_count_5000'],\n",
       "      dtype='object', length=272)"
      ]
     },
     "execution_count": 25,
     "metadata": {},
     "output_type": "execute_result"
    }
   ],
   "source": [
    "test_df.columns"
   ]
  },
  {
   "cell_type": "code",
   "execution_count": 1,
   "metadata": {},
   "outputs": [
    {
     "ename": "NameError",
     "evalue": "name 'pd' is not defined",
     "output_type": "error",
     "traceback": [
      "\u001b[1;31m---------------------------------------------------------------------------\u001b[0m",
      "\u001b[1;31mNameError\u001b[0m                                 Traceback (most recent call last)",
      "\u001b[1;32mc:\\Users\\AKE\\Downloads\\LinearRegression.ipynb Cell 16\u001b[0m line \u001b[0;36m2\n\u001b[0;32m      <a href='vscode-notebook-cell:/c%3A/Users/AKE/Downloads/LinearRegression.ipynb#X22sZmlsZQ%3D%3D?line=0'>1</a>\u001b[0m \u001b[39m# Create submission DataFrame\u001b[39;00m\n\u001b[1;32m----> <a href='vscode-notebook-cell:/c%3A/Users/AKE/Downloads/LinearRegression.ipynb#X22sZmlsZQ%3D%3D?line=1'>2</a>\u001b[0m submission_df \u001b[39m=\u001b[39m pd\u001b[39m.\u001b[39mDataFrame({\n\u001b[0;32m      <a href='vscode-notebook-cell:/c%3A/Users/AKE/Downloads/LinearRegression.ipynb#X22sZmlsZQ%3D%3D?line=2'>3</a>\u001b[0m     \u001b[39m'\u001b[39m\u001b[39mrow ID\u001b[39m\u001b[39m'\u001b[39m: test_df[\u001b[39m'\u001b[39m\u001b[39mrow ID\u001b[39m\u001b[39m'\u001b[39m],\n\u001b[0;32m      <a href='vscode-notebook-cell:/c%3A/Users/AKE/Downloads/LinearRegression.ipynb#X22sZmlsZQ%3D%3D?line=3'>4</a>\u001b[0m     \u001b[39m'\u001b[39m\u001b[39mprice_doc\u001b[39m\u001b[39m'\u001b[39m: predicted_price\n\u001b[0;32m      <a href='vscode-notebook-cell:/c%3A/Users/AKE/Downloads/LinearRegression.ipynb#X22sZmlsZQ%3D%3D?line=4'>5</a>\u001b[0m })\n\u001b[0;32m      <a href='vscode-notebook-cell:/c%3A/Users/AKE/Downloads/LinearRegression.ipynb#X22sZmlsZQ%3D%3D?line=6'>7</a>\u001b[0m \u001b[39m# Save the DataFrame to a CSV file\u001b[39;00m\n\u001b[0;32m      <a href='vscode-notebook-cell:/c%3A/Users/AKE/Downloads/LinearRegression.ipynb#X22sZmlsZQ%3D%3D?line=7'>8</a>\u001b[0m submission_df\u001b[39m.\u001b[39mto_csv(\u001b[39m'\u001b[39m\u001b[39mC:\u001b[39m\u001b[39m\\\\\u001b[39;00m\u001b[39mUsers\u001b[39m\u001b[39m\\\\\u001b[39;00m\u001b[39mAKE\u001b[39m\u001b[39m\\\\\u001b[39;00m\u001b[39mDesktop\u001b[39m\u001b[39m\\\\\u001b[39;00m\u001b[39mIMLChallenge02\u001b[39m\u001b[39m\\\\\u001b[39;00m\u001b[39mprediction_linearRegression.csv\u001b[39m\u001b[39m'\u001b[39m, index\u001b[39m=\u001b[39m\u001b[39mFalse\u001b[39;00m)\n",
      "\u001b[1;31mNameError\u001b[0m: name 'pd' is not defined"
     ]
    }
   ],
   "source": [
    "# Create submission DataFrame\n",
    "submission_df = pd.DataFrame({\n",
    "    'row ID': test_df['row ID'],\n",
    "    'price_doc': predicted_price\n",
    "})\n",
    "\n",
    "# Save the DataFrame to a CSV file\n",
    "submission_df.to_csv('C:\\\\Users\\\\AKE\\\\Desktop\\\\IMLChallenge02\\\\prediction_linearRegression.csv', index=False)"
   ]
  },
  {
   "cell_type": "code",
   "execution_count": 2,
   "metadata": {},
   "outputs": [
    {
     "ename": "NameError",
     "evalue": "name 'train_df' is not defined",
     "output_type": "error",
     "traceback": [
      "\u001b[1;31m---------------------------------------------------------------------------\u001b[0m",
      "\u001b[1;31mNameError\u001b[0m                                 Traceback (most recent call last)",
      "\u001b[1;32mc:\\Users\\faizan\\Documents\\IMLChallenge02\\LinearRegression.ipynb Cell 37\u001b[0m line \u001b[0;36m1\n\u001b[1;32m----> <a href='vscode-notebook-cell:/c%3A/Users/faizan/Documents/IMLChallenge02/LinearRegression.ipynb#X51sZmlsZQ%3D%3D?line=0'>1</a>\u001b[0m \u001b[39mdel\u001b[39;00m train_df\n\u001b[0;32m      <a href='vscode-notebook-cell:/c%3A/Users/faizan/Documents/IMLChallenge02/LinearRegression.ipynb#X51sZmlsZQ%3D%3D?line=1'>2</a>\u001b[0m \u001b[39mdel\u001b[39;00m test_df\n",
      "\u001b[1;31mNameError\u001b[0m: name 'train_df' is not defined"
     ]
    }
   ],
   "source": [
    "del train_df\n",
    "del test_df"
   ]
  }
 ],
 "metadata": {
  "kernelspec": {
   "display_name": "Python 3",
   "language": "python",
   "name": "python3"
  },
  "language_info": {
   "codemirror_mode": {
    "name": "ipython",
    "version": 3
   },
   "file_extension": ".py",
   "mimetype": "text/x-python",
   "name": "python",
   "nbconvert_exporter": "python",
   "pygments_lexer": "ipython3",
   "version": "3.11.5"
  }
 },
 "nbformat": 4,
 "nbformat_minor": 2
}
