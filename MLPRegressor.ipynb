{
 "cells": [
  {
   "cell_type": "code",
   "execution_count": 1,
   "metadata": {},
   "outputs": [],
   "source": [
    "import pandas as pd\n",
    "import numpy as np\n",
    "from sklearn.preprocessing import PowerTransformer, PolynomialFeatures\n",
    "from sklearn.feature_selection import SelectKBest, f_regression\n",
    "from sklearn.neural_network import MLPRegressor"
   ]
  },
  {
   "cell_type": "code",
   "execution_count": 2,
   "metadata": {},
   "outputs": [],
   "source": [
    "import os\n",
    "os.chdir(\"C:\\\\Users\\\\faizan\\\\Documents\\\\IMLChallenge02\")"
   ]
  },
  {
   "cell_type": "code",
   "execution_count": 3,
   "metadata": {},
   "outputs": [],
   "source": [
    "train_df = pd.read_csv('./train.csv')\n",
    "X_test = pd.read_csv('./test.csv')"
   ]
  },
  {
   "cell_type": "code",
   "execution_count": 8,
   "metadata": {},
   "outputs": [],
   "source": [
    "train_df = train_df.drop_duplicates()\n",
    "\n",
    "# Identify categorical and numerical columns\n",
    "categorical_features = train_df.select_dtypes(include=[object]).columns.tolist()\n",
    "numerical_features = train_df.select_dtypes(include=[np.number]).columns.tolist()\n",
    "numerical_features.remove('price_doc')\n",
    "\n",
    "# Prepare target and features\n",
    "y_train = train_df['price_doc']\n",
    "X_train = train_df[numerical_features]\n",
    "\n",
    "# Feature Selection - SelectKBest\n",
    "selector = SelectKBest(f_regression, k=100)\n",
    "X_train_selected = selector.fit_transform(X_train, y_train)\n",
    "X_test_selected = selector.transform(X_test[numerical_features])\n",
    "\n",
    "# # Polynomial Features (optional, can increase model complexity)\n",
    "# poly = PolynomialFeatures(degree=1, include_bias=False)\n",
    "# X_train_poly = poly.fit_transform(X_train_selected)\n",
    "# X_test_poly = poly.transform(X_test_selected)\n",
    "\n",
    "# Scale features\n",
    "scaler = PowerTransformer()\n",
    "X_train_scaled = scaler.fit_transform(X_train_selected)\n",
    "X_test_scaled = scaler.transform(X_test_selected)"
   ]
  },
  {
   "cell_type": "code",
   "execution_count": 9,
   "metadata": {},
   "outputs": [
    {
     "name": "stdout",
     "output_type": "stream",
     "text": [
      "Epoch 1/30\n",
      "Epoch 2/30\n",
      "Epoch 3/30\n",
      "Epoch 4/30\n",
      "Epoch 5/30\n",
      "Epoch 6/30\n",
      "Epoch 7/30\n",
      "Epoch 8/30\n",
      "Epoch 9/30\n",
      "Epoch 10/30\n",
      "Epoch 11/30\n",
      "Epoch 12/30\n",
      "Epoch 13/30\n",
      "Epoch 14/30\n",
      "Epoch 15/30\n",
      "Epoch 16/30\n",
      "Epoch 17/30\n",
      "Epoch 18/30\n",
      "Epoch 19/30\n",
      "Epoch 20/30\n",
      "Epoch 21/30\n",
      "Epoch 22/30\n",
      "Epoch 23/30\n",
      "Epoch 24/30\n",
      "Epoch 25/30\n",
      "Epoch 26/30\n",
      "Epoch 27/30\n",
      "Epoch 28/30\n",
      "Epoch 29/30\n",
      "Epoch 30/30\n"
     ]
    }
   ],
   "source": [
    "# Initialize MLPRegressor with modified hyperparameters\n",
    "mlp_model = MLPRegressor(\n",
    "    hidden_layer_sizes=(190, 100, 50),\n",
    "    activation='relu',\n",
    "    solver='adam',\n",
    "    learning_rate_init=0.005,\n",
    "    alpha=0.005,\n",
    "    max_iter=30,  # Each iteration will be considered an epoch\n",
    "    random_state=42\n",
    ")\n",
    "\n",
    "# Training loop for multiple epochs\n",
    "epochs = 30\n",
    "batch_size = 32\n",
    "num_samples = len(X_train_scaled)\n",
    "\n",
    "for epoch in range(epochs):\n",
    "    print(f\"Epoch {epoch + 1}/{epochs}\")\n",
    "    for i in range(0, num_samples, batch_size):\n",
    "        X_batch = X_train_scaled[i:i+batch_size]\n",
    "        y_batch = y_train[i:i+batch_size]\n",
    "        mlp_model.partial_fit(X_batch, y_batch)\n"
   ]
  },
  {
   "cell_type": "code",
   "execution_count": 6,
   "metadata": {},
   "outputs": [],
   "source": [
    "# Predictions\n",
    "y_pred = mlp_model.predict(X_test_scaled)\n",
    "\n",
    "# Create submission DataFrame\n",
    "submission = pd.DataFrame({'row ID': range(1, len(X_test) + 1), 'price_doc': y_pred.flatten()})\n",
    "\n",
    "# Save the DataFrame to a CSV file\n",
    "submission.to_csv('prediction_neuralNetwork.csv', index=False)"
   ]
  },
  {
   "cell_type": "code",
   "execution_count": null,
   "metadata": {},
   "outputs": [],
   "source": []
  }
 ],
 "metadata": {
  "kernelspec": {
   "display_name": "Python 3",
   "language": "python",
   "name": "python3"
  },
  "language_info": {
   "codemirror_mode": {
    "name": "ipython",
    "version": 3
   },
   "file_extension": ".py",
   "mimetype": "text/x-python",
   "name": "python",
   "nbconvert_exporter": "python",
   "pygments_lexer": "ipython3",
   "version": "3.11.5"
  }
 },
 "nbformat": 4,
 "nbformat_minor": 2
}
