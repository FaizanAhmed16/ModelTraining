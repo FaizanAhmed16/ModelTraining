{
 "cells": [
  {
   "cell_type": "code",
   "execution_count": 58,
   "metadata": {},
   "outputs": [],
   "source": [
    "import pandas as pd\n",
    "from sklearn.model_selection import train_test_split\n",
    "from sklearn.preprocessing import StandardScaler, OneHotEncoder, MinMaxScaler, LabelEncoder\n",
    "from sklearn.compose import ColumnTransformer\n",
    "from sklearn.pipeline import Pipeline\n",
    "from sklearn.decomposition import PCA\n",
    "import numpy as np\n",
    "from sklearn.metrics import mean_squared_error\n",
    "from tensorflow import keras\n",
    "from tensorflow.keras.models import Sequential, Model\n",
    "from tensorflow.keras.layers import Dense, Input, Dropout\n",
    "from tensorflow.keras.callbacks import EarlyStopping\n",
    "from tensorflow.keras.regularizers import l1, l2, l1_l2\n",
    "from sklearn.feature_selection import SelectFdr, f_regression, VarianceThreshold, SequentialFeatureSelector, SelectKBest\n",
    "from sklearn.neural_network import MLPRegressor\n",
    "# from tensorflow.keras.wrappers.scikit_learn import KerasRegressor"
   ]
  },
  {
   "cell_type": "code",
   "execution_count": 97,
   "metadata": {},
   "outputs": [
    {
     "name": "stdout",
     "output_type": "stream",
     "text": [
      "2.15.0\n"
     ]
    }
   ],
   "source": [
    "import tensorflow as tf\n",
    "print(tf.__version__)"
   ]
  },
  {
   "cell_type": "code",
   "execution_count": 2,
   "metadata": {},
   "outputs": [],
   "source": [
    "import os\n",
    "os.chdir(\"C:\\\\Users\\\\faizan\\\\Documents\\\\IMLChallenge02\")"
   ]
  },
  {
   "cell_type": "code",
   "execution_count": 60,
   "metadata": {},
   "outputs": [],
   "source": [
    "train_df = pd.read_csv('./train.csv')\n",
    "test_df = pd.read_csv('./test.csv')"
   ]
  },
  {
   "cell_type": "code",
   "execution_count": 61,
   "metadata": {},
   "outputs": [],
   "source": [
    "# Keep only numeric columns for correlation analysis\n",
    "train_numeric = train_df.select_dtypes(include=[np.number])\n",
    "\n",
    "# Correlation analysis for feature selection (example using Pearson correlation)\n",
    "correlation_threshold = 0.1  # Adjust this threshold based on your analysis\n",
    "correlation_with_target = train_numeric.corrwith(train_df['price_doc']).abs()\n",
    "relevant_features = correlation_with_target[correlation_with_target > correlation_threshold].index"
   ]
  },
  {
   "cell_type": "code",
   "execution_count": 62,
   "metadata": {},
   "outputs": [
    {
     "data": {
      "text/plain": [
       "(255,)"
      ]
     },
     "execution_count": 62,
     "metadata": {},
     "output_type": "execute_result"
    }
   ],
   "source": [
    "relevant_features.shape"
   ]
  },
  {
   "cell_type": "code",
   "execution_count": 63,
   "metadata": {},
   "outputs": [],
   "source": [
    "# Keep only relevant features\n",
    "X_train_full = train_df[relevant_features].drop('price_doc', axis=1)\n",
    "y_train_full = train_df['price_doc']"
   ]
  },
  {
   "cell_type": "code",
   "execution_count": 73,
   "metadata": {},
   "outputs": [],
   "source": [
    "# Separate numerical and categorical columns\n",
    "numerical_cols = X_train_full.select_dtypes(include=[np.number]).columns\n",
    "categorical_cols = X_train_full.select_dtypes(include=['object']).columns\n",
    "\n",
    "# Create transformers\n",
    "numerical_transformer = Pipeline(steps=[\n",
    "    ('scaler', StandardScaler())\n",
    "])\n",
    "\n",
    "categorical_transformer = Pipeline(steps=[\n",
    "    ('encoder', OneHotEncoder(handle_unknown='ignore'))\n",
    "])\n",
    "\n",
    "# Assuming preprocessor is a ColumnTransformer\n",
    "preprocessor = ColumnTransformer(\n",
    "    transformers=[\n",
    "        ('num', StandardScaler(), numerical_cols),\n",
    "        ('cat', OneHotEncoder(handle_unknown='ignore'), categorical_cols)\n",
    "    ])"
   ]
  },
  {
   "cell_type": "code",
   "execution_count": 74,
   "metadata": {},
   "outputs": [],
   "source": [
    "# Create MLP Regressor\n",
    "mlp_regressor = MLPRegressor(\n",
    "    hidden_layer_sizes=(64, 32, 16, 8),\n",
    "    activation='relu',\n",
    "    solver='adam',\n",
    "    alpha=0.05,  # L2 regularization (adjust as needed)\n",
    "    max_iter=100  # Maximum number of iterations (adjust as needed)\n",
    ")\n",
    "\n",
    "# Create a pipeline with preprocessor and the MLP Regressor\n",
    "pipeline = Pipeline([\n",
    "    ('preprocessor', preprocessor),\n",
    "    ('regressor', mlp_regressor)\n",
    "])\n",
    "\n",
    "# Add EarlyStopping callback\n",
    "early_stopping = EarlyStopping(monitor='loss', patience=10, restore_best_weights=True)\n",
    "\n",
    "# Split data into training and validation sets\n",
    "X_train, X_val, y_train, y_val = train_test_split(X_train_full, y_train_full, test_size=0.2, random_state=42)"
   ]
  },
  {
   "cell_type": "code",
   "execution_count": 52,
   "metadata": {},
   "outputs": [],
   "source": [
    "\n",
    "# Input layer\n",
    "input_layer = Input(shape=(X_train_full.shape[1],))\n",
    "\n",
    "# First dense layer with ReLU activation and L1 regularization\n",
    "dense_layer1 = Dense(units=64, activation='relu', kernel_regularizer=l1(0.01))(input_layer)\n",
    "# Optional Dropout layer\n",
    "# dropout_layer1 = Dropout(0.1)(dense_layer1)\n",
    "\n",
    "# Second dense layer with ReLU activation and L1 regularization\n",
    "dense_layer2 = Dense(units=32, activation='relu', kernel_regularizer=l1(0.01))(dense_layer1)\n",
    "# Optional Dropout layer\n",
    "# dropout_layer2 = Dropout(0.1)(dense_layer2)\n",
    "\n",
    "# Third dense layer with ReLU activation and L1/L2 regularization\n",
    "dense_layer3 = Dense(units=16, activation='relu')(dense_layer2)\n",
    "# Optional Dropout layer\n",
    "# dropout_layer3 = Dropout(0.1)(dense_layer3)\n",
    "\n",
    "# Fourth dense layer with ReLU activation and L1/L2 regularization\n",
    "dense_layer4 = Dense(units=8, activation='relu')(dense_layer3)\n",
    "# Optional Dropout layer\n",
    "# dropout_layer4 = Dropout(0.1)(dense_layer4)\n",
    "\n",
    "# Output layer with linear activation\n",
    "output_layer = Dense(units=1, activation='linear')(dense_layer4)\n",
    "\n",
    "# Create the model\n",
    "model = Model(inputs=input_layer, outputs=output_layer)\n",
    "\n",
    "# Compile the model\n",
    "model.compile(optimizer='adam', loss='mean_squared_error')\n",
    "\n",
    "# Feature selection using f_regression\n",
    "selector = SelectKBest(score_func=f_regression, k=50)  # Adjust k as needed\n",
    "\n",
    "# Create a pipeline with preprocessor and the Keras model\n",
    "pipeline = Pipeline([\n",
    "    ('preprocessor', preprocessor),\n",
    "    # ('pca', PCA(n_components=50)),\n",
    "    ('variance_filter', VarianceThreshold(threshold=0.05)),\n",
    "    #('selector', selector),\n",
    "    ('regressor', model)\n",
    "])\n",
    "\n",
    "# Split data into training and validation sets\n",
    "X_train, X_val, y_train, y_val = train_test_split(X_train_full, y_train_full, test_size=0.2, random_state=42)\n",
    "\n",
    "# Add EarlyStopping callback\n",
    "early_stopping = EarlyStopping(monitor='loss', patience=10, restore_best_weights=True)\n"
   ]
  },
  {
   "cell_type": "code",
   "execution_count": 75,
   "metadata": {},
   "outputs": [
    {
     "name": "stderr",
     "output_type": "stream",
     "text": [
      "c:\\Users\\faizan\\AppData\\Local\\Programs\\Python\\Python311\\Lib\\site-packages\\sklearn\\neural_network\\_multilayer_perceptron.py:691: ConvergenceWarning: Stochastic Optimizer: Maximum iterations (100) reached and the optimization hasn't converged yet.\n",
      "  warnings.warn(\n"
     ]
    },
    {
     "data": {
      "text/html": [
       "<style>#sk-container-id-13 {color: black;}#sk-container-id-13 pre{padding: 0;}#sk-container-id-13 div.sk-toggleable {background-color: white;}#sk-container-id-13 label.sk-toggleable__label {cursor: pointer;display: block;width: 100%;margin-bottom: 0;padding: 0.3em;box-sizing: border-box;text-align: center;}#sk-container-id-13 label.sk-toggleable__label-arrow:before {content: \"▸\";float: left;margin-right: 0.25em;color: #696969;}#sk-container-id-13 label.sk-toggleable__label-arrow:hover:before {color: black;}#sk-container-id-13 div.sk-estimator:hover label.sk-toggleable__label-arrow:before {color: black;}#sk-container-id-13 div.sk-toggleable__content {max-height: 0;max-width: 0;overflow: hidden;text-align: left;background-color: #f0f8ff;}#sk-container-id-13 div.sk-toggleable__content pre {margin: 0.2em;color: black;border-radius: 0.25em;background-color: #f0f8ff;}#sk-container-id-13 input.sk-toggleable__control:checked~div.sk-toggleable__content {max-height: 200px;max-width: 100%;overflow: auto;}#sk-container-id-13 input.sk-toggleable__control:checked~label.sk-toggleable__label-arrow:before {content: \"▾\";}#sk-container-id-13 div.sk-estimator input.sk-toggleable__control:checked~label.sk-toggleable__label {background-color: #d4ebff;}#sk-container-id-13 div.sk-label input.sk-toggleable__control:checked~label.sk-toggleable__label {background-color: #d4ebff;}#sk-container-id-13 input.sk-hidden--visually {border: 0;clip: rect(1px 1px 1px 1px);clip: rect(1px, 1px, 1px, 1px);height: 1px;margin: -1px;overflow: hidden;padding: 0;position: absolute;width: 1px;}#sk-container-id-13 div.sk-estimator {font-family: monospace;background-color: #f0f8ff;border: 1px dotted black;border-radius: 0.25em;box-sizing: border-box;margin-bottom: 0.5em;}#sk-container-id-13 div.sk-estimator:hover {background-color: #d4ebff;}#sk-container-id-13 div.sk-parallel-item::after {content: \"\";width: 100%;border-bottom: 1px solid gray;flex-grow: 1;}#sk-container-id-13 div.sk-label:hover label.sk-toggleable__label {background-color: #d4ebff;}#sk-container-id-13 div.sk-serial::before {content: \"\";position: absolute;border-left: 1px solid gray;box-sizing: border-box;top: 0;bottom: 0;left: 50%;z-index: 0;}#sk-container-id-13 div.sk-serial {display: flex;flex-direction: column;align-items: center;background-color: white;padding-right: 0.2em;padding-left: 0.2em;position: relative;}#sk-container-id-13 div.sk-item {position: relative;z-index: 1;}#sk-container-id-13 div.sk-parallel {display: flex;align-items: stretch;justify-content: center;background-color: white;position: relative;}#sk-container-id-13 div.sk-item::before, #sk-container-id-13 div.sk-parallel-item::before {content: \"\";position: absolute;border-left: 1px solid gray;box-sizing: border-box;top: 0;bottom: 0;left: 50%;z-index: -1;}#sk-container-id-13 div.sk-parallel-item {display: flex;flex-direction: column;z-index: 1;position: relative;background-color: white;}#sk-container-id-13 div.sk-parallel-item:first-child::after {align-self: flex-end;width: 50%;}#sk-container-id-13 div.sk-parallel-item:last-child::after {align-self: flex-start;width: 50%;}#sk-container-id-13 div.sk-parallel-item:only-child::after {width: 0;}#sk-container-id-13 div.sk-dashed-wrapped {border: 1px dashed gray;margin: 0 0.4em 0.5em 0.4em;box-sizing: border-box;padding-bottom: 0.4em;background-color: white;}#sk-container-id-13 div.sk-label label {font-family: monospace;font-weight: bold;display: inline-block;line-height: 1.2em;}#sk-container-id-13 div.sk-label-container {text-align: center;}#sk-container-id-13 div.sk-container {/* jupyter's `normalize.less` sets `[hidden] { display: none; }` but bootstrap.min.css set `[hidden] { display: none !important; }` so we also need the `!important` here to be able to override the default hidden behavior on the sphinx rendered scikit-learn.org. See: https://github.com/scikit-learn/scikit-learn/issues/21755 */display: inline-block !important;position: relative;}#sk-container-id-13 div.sk-text-repr-fallback {display: none;}</style><div id=\"sk-container-id-13\" class=\"sk-top-container\"><div class=\"sk-text-repr-fallback\"><pre>Pipeline(steps=[(&#x27;preprocessor&#x27;,\n",
       "                 ColumnTransformer(transformers=[(&#x27;num&#x27;, StandardScaler(),\n",
       "                                                  Index([&#x27;full_sq&#x27;, &#x27;life_sq&#x27;, &#x27;floor&#x27;, &#x27;area_m&#x27;, &#x27;raion_popul&#x27;,\n",
       "       &#x27;green_zone_part&#x27;, &#x27;indust_part&#x27;, &#x27;children_preschool&#x27;,\n",
       "       &#x27;preschool_education_centers_raion&#x27;, &#x27;children_school&#x27;,\n",
       "       ...\n",
       "       &#x27;cafe_count_5000_price_1500&#x27;, &#x27;cafe_count_5000_price_2500&#x27;,\n",
       "       &#x27;cafe_count_5000_price_4000&#x27;, &#x27;cafe_count_5000_price_high&#x27;,\n",
       "       &#x27;big_church_count_5000&#x27;, &#x27;church_count_5000&#x27;, &#x27;mosque_count_5000&#x27;,\n",
       "       &#x27;leisure_count_5000&#x27;, &#x27;sport_count_5000&#x27;, &#x27;market_count_5000&#x27;],\n",
       "      dtype=&#x27;object&#x27;, length=254)),\n",
       "                                                 (&#x27;cat&#x27;,\n",
       "                                                  OneHotEncoder(handle_unknown=&#x27;ignore&#x27;),\n",
       "                                                  Index([], dtype=&#x27;object&#x27;))])),\n",
       "                (&#x27;regressor&#x27;,\n",
       "                 MLPRegressor(alpha=0.01, hidden_layer_sizes=(64, 32),\n",
       "                              max_iter=100))])</pre><b>In a Jupyter environment, please rerun this cell to show the HTML representation or trust the notebook. <br />On GitHub, the HTML representation is unable to render, please try loading this page with nbviewer.org.</b></div><div class=\"sk-container\" hidden><div class=\"sk-item sk-dashed-wrapped\"><div class=\"sk-label-container\"><div class=\"sk-label sk-toggleable\"><input class=\"sk-toggleable__control sk-hidden--visually\" id=\"sk-estimator-id-87\" type=\"checkbox\" ><label for=\"sk-estimator-id-87\" class=\"sk-toggleable__label sk-toggleable__label-arrow\">Pipeline</label><div class=\"sk-toggleable__content\"><pre>Pipeline(steps=[(&#x27;preprocessor&#x27;,\n",
       "                 ColumnTransformer(transformers=[(&#x27;num&#x27;, StandardScaler(),\n",
       "                                                  Index([&#x27;full_sq&#x27;, &#x27;life_sq&#x27;, &#x27;floor&#x27;, &#x27;area_m&#x27;, &#x27;raion_popul&#x27;,\n",
       "       &#x27;green_zone_part&#x27;, &#x27;indust_part&#x27;, &#x27;children_preschool&#x27;,\n",
       "       &#x27;preschool_education_centers_raion&#x27;, &#x27;children_school&#x27;,\n",
       "       ...\n",
       "       &#x27;cafe_count_5000_price_1500&#x27;, &#x27;cafe_count_5000_price_2500&#x27;,\n",
       "       &#x27;cafe_count_5000_price_4000&#x27;, &#x27;cafe_count_5000_price_high&#x27;,\n",
       "       &#x27;big_church_count_5000&#x27;, &#x27;church_count_5000&#x27;, &#x27;mosque_count_5000&#x27;,\n",
       "       &#x27;leisure_count_5000&#x27;, &#x27;sport_count_5000&#x27;, &#x27;market_count_5000&#x27;],\n",
       "      dtype=&#x27;object&#x27;, length=254)),\n",
       "                                                 (&#x27;cat&#x27;,\n",
       "                                                  OneHotEncoder(handle_unknown=&#x27;ignore&#x27;),\n",
       "                                                  Index([], dtype=&#x27;object&#x27;))])),\n",
       "                (&#x27;regressor&#x27;,\n",
       "                 MLPRegressor(alpha=0.01, hidden_layer_sizes=(64, 32),\n",
       "                              max_iter=100))])</pre></div></div></div><div class=\"sk-serial\"><div class=\"sk-item sk-dashed-wrapped\"><div class=\"sk-label-container\"><div class=\"sk-label sk-toggleable\"><input class=\"sk-toggleable__control sk-hidden--visually\" id=\"sk-estimator-id-88\" type=\"checkbox\" ><label for=\"sk-estimator-id-88\" class=\"sk-toggleable__label sk-toggleable__label-arrow\">preprocessor: ColumnTransformer</label><div class=\"sk-toggleable__content\"><pre>ColumnTransformer(transformers=[(&#x27;num&#x27;, StandardScaler(),\n",
       "                                 Index([&#x27;full_sq&#x27;, &#x27;life_sq&#x27;, &#x27;floor&#x27;, &#x27;area_m&#x27;, &#x27;raion_popul&#x27;,\n",
       "       &#x27;green_zone_part&#x27;, &#x27;indust_part&#x27;, &#x27;children_preschool&#x27;,\n",
       "       &#x27;preschool_education_centers_raion&#x27;, &#x27;children_school&#x27;,\n",
       "       ...\n",
       "       &#x27;cafe_count_5000_price_1500&#x27;, &#x27;cafe_count_5000_price_2500&#x27;,\n",
       "       &#x27;cafe_count_5000_price_4000&#x27;, &#x27;cafe_count_5000_price_high&#x27;,\n",
       "       &#x27;big_church_count_5000&#x27;, &#x27;church_count_5000&#x27;, &#x27;mosque_count_5000&#x27;,\n",
       "       &#x27;leisure_count_5000&#x27;, &#x27;sport_count_5000&#x27;, &#x27;market_count_5000&#x27;],\n",
       "      dtype=&#x27;object&#x27;, length=254)),\n",
       "                                (&#x27;cat&#x27;, OneHotEncoder(handle_unknown=&#x27;ignore&#x27;),\n",
       "                                 Index([], dtype=&#x27;object&#x27;))])</pre></div></div></div><div class=\"sk-parallel\"><div class=\"sk-parallel-item\"><div class=\"sk-item\"><div class=\"sk-label-container\"><div class=\"sk-label sk-toggleable\"><input class=\"sk-toggleable__control sk-hidden--visually\" id=\"sk-estimator-id-89\" type=\"checkbox\" ><label for=\"sk-estimator-id-89\" class=\"sk-toggleable__label sk-toggleable__label-arrow\">num</label><div class=\"sk-toggleable__content\"><pre>Index([&#x27;full_sq&#x27;, &#x27;life_sq&#x27;, &#x27;floor&#x27;, &#x27;area_m&#x27;, &#x27;raion_popul&#x27;,\n",
       "       &#x27;green_zone_part&#x27;, &#x27;indust_part&#x27;, &#x27;children_preschool&#x27;,\n",
       "       &#x27;preschool_education_centers_raion&#x27;, &#x27;children_school&#x27;,\n",
       "       ...\n",
       "       &#x27;cafe_count_5000_price_1500&#x27;, &#x27;cafe_count_5000_price_2500&#x27;,\n",
       "       &#x27;cafe_count_5000_price_4000&#x27;, &#x27;cafe_count_5000_price_high&#x27;,\n",
       "       &#x27;big_church_count_5000&#x27;, &#x27;church_count_5000&#x27;, &#x27;mosque_count_5000&#x27;,\n",
       "       &#x27;leisure_count_5000&#x27;, &#x27;sport_count_5000&#x27;, &#x27;market_count_5000&#x27;],\n",
       "      dtype=&#x27;object&#x27;, length=254)</pre></div></div></div><div class=\"sk-serial\"><div class=\"sk-item\"><div class=\"sk-estimator sk-toggleable\"><input class=\"sk-toggleable__control sk-hidden--visually\" id=\"sk-estimator-id-90\" type=\"checkbox\" ><label for=\"sk-estimator-id-90\" class=\"sk-toggleable__label sk-toggleable__label-arrow\">StandardScaler</label><div class=\"sk-toggleable__content\"><pre>StandardScaler()</pre></div></div></div></div></div></div><div class=\"sk-parallel-item\"><div class=\"sk-item\"><div class=\"sk-label-container\"><div class=\"sk-label sk-toggleable\"><input class=\"sk-toggleable__control sk-hidden--visually\" id=\"sk-estimator-id-91\" type=\"checkbox\" ><label for=\"sk-estimator-id-91\" class=\"sk-toggleable__label sk-toggleable__label-arrow\">cat</label><div class=\"sk-toggleable__content\"><pre>Index([], dtype=&#x27;object&#x27;)</pre></div></div></div><div class=\"sk-serial\"><div class=\"sk-item\"><div class=\"sk-estimator sk-toggleable\"><input class=\"sk-toggleable__control sk-hidden--visually\" id=\"sk-estimator-id-92\" type=\"checkbox\" ><label for=\"sk-estimator-id-92\" class=\"sk-toggleable__label sk-toggleable__label-arrow\">OneHotEncoder</label><div class=\"sk-toggleable__content\"><pre>OneHotEncoder(handle_unknown=&#x27;ignore&#x27;)</pre></div></div></div></div></div></div></div></div><div class=\"sk-item\"><div class=\"sk-estimator sk-toggleable\"><input class=\"sk-toggleable__control sk-hidden--visually\" id=\"sk-estimator-id-93\" type=\"checkbox\" ><label for=\"sk-estimator-id-93\" class=\"sk-toggleable__label sk-toggleable__label-arrow\">MLPRegressor</label><div class=\"sk-toggleable__content\"><pre>MLPRegressor(alpha=0.01, hidden_layer_sizes=(64, 32), max_iter=100)</pre></div></div></div></div></div></div></div>"
      ],
      "text/plain": [
       "Pipeline(steps=[('preprocessor',\n",
       "                 ColumnTransformer(transformers=[('num', StandardScaler(),\n",
       "                                                  Index(['full_sq', 'life_sq', 'floor', 'area_m', 'raion_popul',\n",
       "       'green_zone_part', 'indust_part', 'children_preschool',\n",
       "       'preschool_education_centers_raion', 'children_school',\n",
       "       ...\n",
       "       'cafe_count_5000_price_1500', 'cafe_count_5000_price_2500',\n",
       "       'cafe_count_5000_price_4000', 'cafe_count_5000_price_high',\n",
       "       'big_church_count_5000', 'church_count_5000', 'mosque_count_5000',\n",
       "       'leisure_count_5000', 'sport_count_5000', 'market_count_5000'],\n",
       "      dtype='object', length=254)),\n",
       "                                                 ('cat',\n",
       "                                                  OneHotEncoder(handle_unknown='ignore'),\n",
       "                                                  Index([], dtype='object'))])),\n",
       "                ('regressor',\n",
       "                 MLPRegressor(alpha=0.01, hidden_layer_sizes=(64, 32),\n",
       "                              max_iter=100))])"
      ]
     },
     "execution_count": 75,
     "metadata": {},
     "output_type": "execute_result"
    }
   ],
   "source": [
    "# Fit the model\n",
    "pipeline.fit(X_train, y_train)"
   ]
  },
  {
   "cell_type": "code",
   "execution_count": 66,
   "metadata": {},
   "outputs": [
    {
     "ename": "TypeError",
     "evalue": "BaseMultilayerPerceptron.fit() got an unexpected keyword argument 'epochs'",
     "output_type": "error",
     "traceback": [
      "\u001b[1;31m---------------------------------------------------------------------------\u001b[0m",
      "\u001b[1;31mTypeError\u001b[0m                                 Traceback (most recent call last)",
      "\u001b[1;32mc:\\Users\\faizan\\Documents\\IMLChallenge02\\NeuralNetwork.ipynb Cell 11\u001b[0m line \u001b[0;36m2\n\u001b[0;32m      <a href='vscode-notebook-cell:/c%3A/Users/faizan/Documents/IMLChallenge02/NeuralNetwork.ipynb#X12sZmlsZQ%3D%3D?line=0'>1</a>\u001b[0m \u001b[39m# Fit the pipeline\u001b[39;00m\n\u001b[1;32m----> <a href='vscode-notebook-cell:/c%3A/Users/faizan/Documents/IMLChallenge02/NeuralNetwork.ipynb#X12sZmlsZQ%3D%3D?line=1'>2</a>\u001b[0m pipeline\u001b[39m.\u001b[39;49mfit(X_train, y_train, regressor__epochs\u001b[39m=\u001b[39;49m\u001b[39m20\u001b[39;49m, regressor__batch_size\u001b[39m=\u001b[39;49m\u001b[39m40\u001b[39;49m, regressor__verbose\u001b[39m=\u001b[39;49m\u001b[39m1\u001b[39;49m)\n",
      "File \u001b[1;32mc:\\Users\\faizan\\AppData\\Local\\Programs\\Python\\Python311\\Lib\\site-packages\\sklearn\\base.py:1152\u001b[0m, in \u001b[0;36m_fit_context.<locals>.decorator.<locals>.wrapper\u001b[1;34m(estimator, *args, **kwargs)\u001b[0m\n\u001b[0;32m   1145\u001b[0m     estimator\u001b[39m.\u001b[39m_validate_params()\n\u001b[0;32m   1147\u001b[0m \u001b[39mwith\u001b[39;00m config_context(\n\u001b[0;32m   1148\u001b[0m     skip_parameter_validation\u001b[39m=\u001b[39m(\n\u001b[0;32m   1149\u001b[0m         prefer_skip_nested_validation \u001b[39mor\u001b[39;00m global_skip_validation\n\u001b[0;32m   1150\u001b[0m     )\n\u001b[0;32m   1151\u001b[0m ):\n\u001b[1;32m-> 1152\u001b[0m     \u001b[39mreturn\u001b[39;00m fit_method(estimator, \u001b[39m*\u001b[39;49margs, \u001b[39m*\u001b[39;49m\u001b[39m*\u001b[39;49mkwargs)\n",
      "File \u001b[1;32mc:\\Users\\faizan\\AppData\\Local\\Programs\\Python\\Python311\\Lib\\site-packages\\sklearn\\pipeline.py:427\u001b[0m, in \u001b[0;36mPipeline.fit\u001b[1;34m(self, X, y, **fit_params)\u001b[0m\n\u001b[0;32m    425\u001b[0m     \u001b[39mif\u001b[39;00m \u001b[39mself\u001b[39m\u001b[39m.\u001b[39m_final_estimator \u001b[39m!=\u001b[39m \u001b[39m\"\u001b[39m\u001b[39mpassthrough\u001b[39m\u001b[39m\"\u001b[39m:\n\u001b[0;32m    426\u001b[0m         fit_params_last_step \u001b[39m=\u001b[39m fit_params_steps[\u001b[39mself\u001b[39m\u001b[39m.\u001b[39msteps[\u001b[39m-\u001b[39m\u001b[39m1\u001b[39m][\u001b[39m0\u001b[39m]]\n\u001b[1;32m--> 427\u001b[0m         \u001b[39mself\u001b[39;49m\u001b[39m.\u001b[39;49m_final_estimator\u001b[39m.\u001b[39;49mfit(Xt, y, \u001b[39m*\u001b[39;49m\u001b[39m*\u001b[39;49mfit_params_last_step)\n\u001b[0;32m    429\u001b[0m \u001b[39mreturn\u001b[39;00m \u001b[39mself\u001b[39m\n",
      "File \u001b[1;32mc:\\Users\\faizan\\AppData\\Local\\Programs\\Python\\Python311\\Lib\\site-packages\\sklearn\\base.py:1152\u001b[0m, in \u001b[0;36m_fit_context.<locals>.decorator.<locals>.wrapper\u001b[1;34m(estimator, *args, **kwargs)\u001b[0m\n\u001b[0;32m   1145\u001b[0m     estimator\u001b[39m.\u001b[39m_validate_params()\n\u001b[0;32m   1147\u001b[0m \u001b[39mwith\u001b[39;00m config_context(\n\u001b[0;32m   1148\u001b[0m     skip_parameter_validation\u001b[39m=\u001b[39m(\n\u001b[0;32m   1149\u001b[0m         prefer_skip_nested_validation \u001b[39mor\u001b[39;00m global_skip_validation\n\u001b[0;32m   1150\u001b[0m     )\n\u001b[0;32m   1151\u001b[0m ):\n\u001b[1;32m-> 1152\u001b[0m     \u001b[39mreturn\u001b[39;00m fit_method(estimator, \u001b[39m*\u001b[39;49margs, \u001b[39m*\u001b[39;49m\u001b[39m*\u001b[39;49mkwargs)\n",
      "\u001b[1;31mTypeError\u001b[0m: BaseMultilayerPerceptron.fit() got an unexpected keyword argument 'epochs'"
     ]
    }
   ],
   "source": [
    "# Fit the pipeline\n",
    "pipeline.fit(X_train, y_train, regressor__epochs=20, regressor__batch_size=40, regressor__verbose=1)\n"
   ]
  },
  {
   "cell_type": "code",
   "execution_count": 76,
   "metadata": {},
   "outputs": [
    {
     "name": "stdout",
     "output_type": "stream",
     "text": [
      "Validation RMSE: 13248631.318552667\n"
     ]
    }
   ],
   "source": [
    "# Validation Prediction\n",
    "y_pred_val = pipeline.predict(X_val)\n",
    "\n",
    "# # Print the number of features used\n",
    "# num_features_used = model.named_steps['preprocessor'].transform(X_train).shape[1]\n",
    "# print(f'Number of Features Used: {num_features_used}')\n",
    "\n",
    "# RMSE calculation for the validation set\n",
    "rmse_val = np.sqrt(mean_squared_error(y_val, y_pred_val))\n",
    "print(f'Validation RMSE: {rmse_val}')\n"
   ]
  },
  {
   "cell_type": "code",
   "execution_count": 77,
   "metadata": {},
   "outputs": [],
   "source": [
    "\n",
    "# Preparing the test set for final prediction\n",
    "X_test = test_df.copy()\n",
    "\n",
    "# Final Prediction for submission\n",
    "predicted_price = pipeline.predict(X_test)\n",
    "\n",
    "# Flatten predictions\n",
    "predicted_price = predicted_price.flatten()\n",
    "\n",
    "# Create submission DataFrame\n",
    "submission_df = pd.DataFrame({\n",
    "    'row ID': test_df['row ID'],\n",
    "    'price_doc': predicted_price\n",
    "})\n",
    "\n",
    "# Save the DataFrame to a CSV file\n",
    "submission_df.to_csv('prediction_neuralNetwork.csv', index=False)\n"
   ]
  },
  {
   "cell_type": "code",
   "execution_count": 59,
   "metadata": {},
   "outputs": [],
   "source": [
    "del train_df\n",
    "del test_df"
   ]
  }
 ],
 "metadata": {
  "kernelspec": {
   "display_name": "Python 3",
   "language": "python",
   "name": "python3"
  },
  "language_info": {
   "codemirror_mode": {
    "name": "ipython",
    "version": 3
   },
   "file_extension": ".py",
   "mimetype": "text/x-python",
   "name": "python",
   "nbconvert_exporter": "python",
   "pygments_lexer": "ipython3",
   "version": "3.11.5"
  }
 },
 "nbformat": 4,
 "nbformat_minor": 2
}
